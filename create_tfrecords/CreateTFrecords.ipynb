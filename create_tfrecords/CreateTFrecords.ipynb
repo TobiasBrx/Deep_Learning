{
 "cells": [
  {
   "cell_type": "code",
   "execution_count": 1,
   "metadata": {},
   "outputs": [],
   "source": [
    "from google.oauth2 import service_account\n",
    "from google.cloud import storage\n",
    "import io\n",
    "import nibabel as nib\n",
    "import os\n",
    "import pandas as pd\n",
    "import tensorflow as tf\n",
    "import gcsfs\n",
    "import random\n",
    "import re\n",
    "from nilearn import image\n",
    "import numpy as np\n",
    "import time\n",
    "import matplotlib.pyplot as plt\n",
    "\n",
    "rel_path = '../data/'"
   ]
  },
  {
   "cell_type": "code",
   "execution_count": 2,
   "metadata": {},
   "outputs": [],
   "source": [
    "#first create this file via IAM management on Google Cloud Platform\n",
    "api_key = \"deep-learning-255016-4350337ed6f4.json\"\n",
    "credentials = service_account.Credentials.from_service_account_file(api_key)\n",
    "client = storage.Client(credentials=credentials, project=\"deep-learning\")\n",
    "\n",
    "fs = gcsfs.GCSFileSystem(token=api_key, project=\"deep-learning\")\n",
    "with fs.open('mri_data_bucket/ADNI_t1_list_with_fsstatus_20190111.csv') as f:\n",
    "    df = pd.read_csv(f)\n",
    "df.to_csv('labels.csv')"
   ]
  },
  {
   "cell_type": "code",
   "execution_count": 3,
   "metadata": {},
   "outputs": [],
   "source": [
    "bucket_name = \"mri_data_bucket\"\n",
    "bucket = client.get_bucket(bucket_name)\n",
    "prefix = \"data\"\n",
    "blobs = bucket.list_blobs(prefix=prefix)\n",
    "\n",
    "file_names = [blob.name for blob in blobs]"
   ]
  },
  {
   "cell_type": "code",
   "execution_count": 4,
   "metadata": {},
   "outputs": [],
   "source": [
    "def _int64_feature(value):\n",
    "    return tf.train.Feature(int64_list=tf.train.Int64List(value=[value]))\n",
    "\n",
    "def _float_feature(value):\n",
    "    return tf.train.Feature(float_list=tf.train.FloatList(value=value))\n",
    "\n",
    "def _bytes_feature(value):\n",
    "    return tf.train.Feature(bytes_list=tf.train.BytesList(value=[value]))"
   ]
  },
  {
   "cell_type": "code",
   "execution_count": 5,
   "metadata": {},
   "outputs": [],
   "source": [
    "labels=df[['Subject','T1.SERIESID','Group']].copy()\n",
    "\n",
    "def labels_slice(labels, groups):\n",
    "    \n",
    "    filter_ = pd.Series(np.repeat(0, labels.shape[0]), index=labels.index)\n",
    "    for group in groups:\n",
    "        group_filter = (labels.Group == group)\n",
    "        filter_ = filter_ | group_filter\n",
    "    labels = labels[pd.Series(filter_)]\n",
    "    return labels\n",
    "\n",
    "labels = labels_slice(labels, ['CN', 'AD', 'EMCI', 'LMCI', 'MCI'])\n",
    "\n",
    "\n",
    "\n",
    "labels['new_ind']=labels['Subject']+\"_\"+labels['T1.SERIESID'].astype(str)\n",
    "#labels.loc[labels.Group == 'CN','Group']=0\n",
    "#labels.loc[labels.Group == 'AD','Group']=1\n",
    "#labels.loc[labels.Group == 'EMCI','Group']=2\n",
    "#labels.loc[labels.Group == 'LMCI','Group']=3\n",
    "#labels.loc[labels.Group == 'MCI','Group']=4\n",
    "labels.loc[(labels.Group == 'CN'),'Group']=0\n",
    "labels.loc[(labels.Group == 'LMCI') | (labels.Group == 'MCI') | (labels.Group == 'EMCI'),'Group']=1\n",
    "labels.loc[(labels.Group == 'AD'),'Group']=2\n",
    "labels = labels.set_index('new_ind')\n",
    "labels=labels.drop(columns=['Subject','T1.SERIESID'])"
   ]
  },
  {
   "cell_type": "code",
   "execution_count": 7,
   "metadata": {},
   "outputs": [
    {
     "name": "stdout",
     "output_type": "stream",
     "text": [
      "Number of images:  10435\n",
      "Number of images without label:  787\n",
      "Labels:  9648\n"
     ]
    }
   ],
   "source": [
    "print(\"Number of images: \", len(file_names))\n",
    "print(\"Number of images without label: \", len(file_names) - labels.shape[0])\n",
    "print(\"Labels: \", labels.shape[0])"
   ]
  },
  {
   "cell_type": "code",
   "execution_count": 8,
   "metadata": {},
   "outputs": [],
   "source": [
    "pattern1 = re.compile(r'S\\d+')\n",
    "pattern2 = re.compile(r'\\d+_S_\\d+')"
   ]
  },
  {
   "cell_type": "code",
   "execution_count": 9,
   "metadata": {},
   "outputs": [],
   "source": [
    "def download(file_names, path='../data'):\n",
    "    \"\"\"\n",
    "    run only 1 time to transfer the data from the bucket to the path\n",
    "    transfers only data with label\n",
    "    \"\"\"\n",
    "    if not os.path.exists(path):\n",
    "        os.makedirs(path)\n",
    "    count=0\n",
    "    with_label = []\n",
    "    for filename in file_names:\n",
    "        filename=filename[5:]\n",
    "        try:\n",
    "            series_id = re.search(pattern1, filename).group(0)[1:]\n",
    "            subject = re.search(pattern2,filename).group(0)\n",
    "            ind=subject+\"_\"+series_id\n",
    "        \n",
    "            label=labels.loc[ind,'Group']          \n",
    "            blob = bucket.blob('data/'+filename)\n",
    "            blob.download_to_filename(path + filename)\n",
    "            count+=1\n",
    "\n",
    "            if count % 500 ==0:\n",
    "                print(count)\n",
    "        except:\n",
    "            continue\n",
    "    print('Total files downloaded: ', count)\n",
    "#download(file_names, path=rel_path)"
   ]
  },
  {
   "cell_type": "code",
   "execution_count": 10,
   "metadata": {},
   "outputs": [
    {
     "name": "stdout",
     "output_type": "stream",
     "text": [
      "Number of pictures with labels but no features:  83\n",
      "Number of pictures that have the same ID but different files:  84\n",
      "Example of two different files with same ID\n",
      "002_S_1261_101646 data/002_S_1261-S101646-T_T1_brain_mni305.nii\n",
      "002_S_1261_101646 data/002_S_1261_S101646_T1_brain_mni305.nii\n"
     ]
    }
   ],
   "source": [
    "def analyse_dataset():\n",
    "    with_label = [i for i in file_names if (\n",
    "    re.search(pattern2, i[5:]).group(0)+\"_\"+re.search(pattern1, i[5:]).group(0)[1:] in labels.index)]\n",
    "    ids = [re.search(pattern2, i[5:]).group(0)+\"_\"+re.search(pattern1, i[5:]).group(0)[1:] for i in file_names]\n",
    "    label_with_no_image = [i for i in labels.index if i not in ids]\n",
    "    print('Number of pictures with labels but no features: ', len(label_with_no_image))\n",
    "    buffer, two_image_same_id, count = [], [], 0\n",
    "    for i in file_names:\n",
    "        ind = re.search(pattern2, i[5:]).group(0)+\"_\"+re.search(pattern1, i[5:]).group(0)[1:] \n",
    "        if (ind in labels.index) and (ind in buffer):\n",
    "            two_image_same_id.append(ind)\n",
    "            count +=1\n",
    "        buffer.append(ind)\n",
    "    print('Number of pictures that have the same ID but different files: ', len(two_image_same_id))\n",
    "    example = \"002_S_1261_101646\"\n",
    "    print(\"Example of two different files with same ID\")\n",
    "    for i in file_names:\n",
    "        ind = re.search(pattern2, i[5:]).group(0)+\"_\"+re.search(pattern1, i[5:]).group(0)[1:] \n",
    "        if ind == example:\n",
    "            print(ind, i)\n",
    "    return with_label\n",
    "\n",
    "with_label = analyse_dataset()"
   ]
  },
  {
   "cell_type": "code",
   "execution_count": 11,
   "metadata": {},
   "outputs": [
    {
     "name": "stdout",
     "output_type": "stream",
     "text": [
      "Num GPUs Available:  4\n",
      "Located at:  ['/device:GPU:0', '/device:GPU:1', '/device:GPU:2', '/device:GPU:3']\n"
     ]
    }
   ],
   "source": [
    "from __future__ import absolute_import, division, print_function, unicode_literals\n",
    "from tensorflow.python.client import device_lib\n",
    "\n",
    "def get_available_gpus():\n",
    "    local_device_protos = device_lib.list_local_devices()\n",
    "    return [x.name for x in local_device_protos if x.device_type == 'GPU']\n",
    "print(\"Num GPUs Available: \", len(tf.config.experimental.list_physical_devices('GPU')))\n",
    "print(\"Located at: \", get_available_gpus())"
   ]
  },
  {
   "cell_type": "code",
   "execution_count": 12,
   "metadata": {},
   "outputs": [],
   "source": [
    "with_label = np.asarray([name[5:] for name in with_label])\n",
    "#with_label = with_label[:200]"
   ]
  },
  {
   "cell_type": "code",
   "execution_count": 13,
   "metadata": {},
   "outputs": [],
   "source": [
    "def normalise_GPU(file_names):\n",
    "    count = 0\n",
    "    start_time = time.time()\n",
    "    strategy = tf.distribute.MirroredStrategy()\n",
    "    with strategy.scope():\n",
    "        min_x=tf.ones(256**3)*np.inf\n",
    "        max_x=tf.zeros(256**3)\n",
    "        for filename in file_names:\n",
    "\n",
    "            image_ = nib.load(rel_path + filename)\n",
    "            image = image_.get_data()\n",
    "            x = tf.reshape(image, [-1])\n",
    "            min_x = tf.minimum(min_x, x)           \n",
    "            max_x = tf.maximum(max_x, x)\n",
    "            count += 1\n",
    "            if count % 200 == 0:\n",
    "                print(\"--- {:.1f} seconds ---\".format(time.time() - start_time))\n",
    "                print(count)\n",
    "                start_time = time.time()\n",
    "    return min_x, max_x\n",
    "\n",
    "#min_, max_ = normalise_GPU(with_label)"
   ]
  },
  {
   "cell_type": "code",
   "execution_count": 14,
   "metadata": {},
   "outputs": [],
   "source": [
    "def save_min_max():\n",
    "    if not os.path.exists('Normalizing_files'):\n",
    "        os.makedirs('Normalizing_files')\n",
    "    np.save('Normalizing_files/min_flat_3d', min_)\n",
    "    np.save('Normalizing_files/max_flat_3d', max_)\n",
    "    \n",
    "#save_min_max()"
   ]
  },
  {
   "cell_type": "code",
   "execution_count": 15,
   "metadata": {},
   "outputs": [],
   "source": [
    "min_flat = np.load('Normalizing_files/min_flat_3d.npy')\n",
    "max_flat = np.load('Normalizing_files/max_flat_3d.npy')"
   ]
  },
  {
   "cell_type": "code",
   "execution_count": 16,
   "metadata": {},
   "outputs": [],
   "source": [
    "#CAUTION when RErunning this cell as file_names is overloaded and will be a dataframe after this execution\n",
    "file_names_ = pd.DataFrame()\n",
    "subjects_ = set()\n",
    "for filename in file_names:\n",
    "    row=dict()\n",
    "    row['filename']=filename[5:]\n",
    "    filename=filename[5:]\n",
    "    try:\n",
    "        series_id = re.search(pattern1, filename).group(0)[1:]\n",
    "        subject = re.search(pattern2,filename).group(0)\n",
    "        ind = subject+\"_\"+series_id\n",
    "        row['ind'] = ind\n",
    "        row['subject'] = subject\n",
    "        row['label'] = labels.loc[ind,'Group'] \n",
    "        subjects_.add(subject)\n",
    "    except:\n",
    "        row['ind']= 'No label'\n",
    "        row['label']= 'No label'\n",
    "        row['subject'] = 'No label'\n",
    "    file_names_  =file_names_.append(row, ignore_index=True)\n",
    "\n",
    "file_names = file_names_[file_names_['ind']!='No label']"
   ]
  },
  {
   "cell_type": "code",
   "execution_count": 17,
   "metadata": {},
   "outputs": [],
   "source": [
    "def add_no_MRI():\n",
    "    subjects = file_names.subject.unique()\n",
    "    no_MRI_ = {}\n",
    "    for subject in subjects:\n",
    "        number_of_MRI = len(file_names[file_names.subject == subject])\n",
    "        no_MRI_[subject] = number_of_MRI\n",
    "    added = file_names.copy()\n",
    "    added[\"no_MRI\"] = [no_MRI_[ind] for ind in file_names.subject]\n",
    "    return added"
   ]
  },
  {
   "cell_type": "code",
   "execution_count": 18,
   "metadata": {},
   "outputs": [
    {
     "data": {
      "image/png": "[encoded data removed]",
      "text/plain": [
       "<Figure size 432x288 with 1 Axes>"
      ]
     },
     "metadata": {
      "needs_background": "light"
     },
     "output_type": "display_data"
    }
   ],
   "source": [
    "analysis_df = add_no_MRI()[[\"label\", \"no_MRI\"]].astype({\"label\": int, \"no_MRI\": int})\n",
    "correlation = analysis_df.groupby(\"no_MRI\").mean()\n",
    "\n",
    "plt.bar(correlation.index, correlation.label)\n",
    "plt.xticks(np.arange(0,18))\n",
    "plt.xlabel(\"# MRIs in data bank\")\n",
    "plt.ylabel(\"average label\")\n",
    "plt.show()"
   ]
  },
  {
   "cell_type": "code",
   "execution_count": 22,
   "metadata": {},
   "outputs": [
    {
     "name": "stdout",
     "output_type": "stream",
     "text": [
      "(7770, 4)\n",
      "(960, 4)\n",
      "(919, 4)\n"
     ]
    }
   ],
   "source": [
    "def split_individuals(file, seed=100):\n",
    "    \"\"\"\n",
    "    takes into account that the MRIs of the same individual should be in the same set\n",
    "    \"\"\"\n",
    "    np.random.seed(seed)\n",
    "    \n",
    "    subjects = file_names.subject.unique()\n",
    "    np.random.shuffle(subjects)\n",
    "    \n",
    "    cut = int(subjects.shape[0]/10)\n",
    "    test, val, train = subjects[:cut], subjects[cut:2*cut], subjects[2*cut:]\n",
    "    \n",
    "    test_filter = pd.Series([subject in test for subject in file_names.subject], index=file_names.index)\n",
    "    testing_file_names = file_names[test_filter] \n",
    "    \n",
    "    val_filter = pd.Series([subject in val for subject in file_names.subject], index=file_names.index)\n",
    "    validation_file_names = file_names[val_filter] \n",
    "    \n",
    "    train_filter = pd.Series([subject in train for subject in file_names.subject], index=file_names.index)\n",
    "    training_file_names = file_names[train_filter] \n",
    "\n",
    "    return training_file_names, validation_file_names, testing_file_names\n",
    "\n",
    "\n",
    "training_file_names, validation_file_names, testing_file_names = split_individuals(file_names)\n",
    "print(training_file_names.shape)\n",
    "print(validation_file_names.shape)\n",
    "print(testing_file_names.shape)"
   ]
  },
  {
   "cell_type": "code",
   "execution_count": 23,
   "metadata": {},
   "outputs": [],
   "source": [
    "    def split_all(file, random_state=100):\n",
    "        \"\"\"\n",
    "        splits the whole data into train, validation and test set. MRIs from an individual in the training set can end up\n",
    "        in the test set if the person has multiple MRIs in the data bank\n",
    "        \"\"\"\n",
    "        file_names = file.sample(frac=1, random_state=random_state)\n",
    "        cut = int(len(file_names)/10)\n",
    "        \n",
    "        testing_file_names = file_names[:cut]\n",
    "        validation_file_names = file_names[cut:2*cut]\n",
    "        training_file_names = file_names[2*cut:]\n",
    "        return training_file_names, validation_file_names, testing_file_names\n",
    "\n",
    "#training_file_names, validation_file_names, testing_file_names = split_all(file_names)\n",
    "#print(training_file_names.shape)\n",
    "#print(validation_file_names.shape)\n",
    "#print(testing_file_names.shape)"
   ]
  },
  {
   "cell_type": "code",
   "execution_count": 24,
   "metadata": {},
   "outputs": [
    {
     "name": "stdout",
     "output_type": "stream",
     "text": [
      "Class 0.0 :  2462\n",
      "Class 1.0 :  4325\n",
      "Class 2.0 :  983\n",
      "Proportion: 0.57 : 1\n"
     ]
    },
    {
     "data": {
      "image/png": "[encoded data removed]",
      "text/plain": [
       "<Figure size 432x288 with 1 Axes>"
      ]
     },
     "metadata": {
      "needs_background": "light"
     },
     "output_type": "display_data"
    }
   ],
   "source": [
    "target_count = training_file_names.label.value_counts().sort_index()\n",
    "df_classes = dict()\n",
    "for keys, values in target_count.items():\n",
    "    print('Class', keys, ': ', values)\n",
    "    df_classes[keys] = training_file_names[training_file_names['label'] == keys]\n",
    "\n",
    "print('Proportion:', round(target_count[0] / target_count[1], 2), ': 1')\n",
    "\n",
    "target_count.plot(kind='bar', title='Count (target)')\n",
    "plt.show()"
   ]
  },
  {
   "cell_type": "code",
   "execution_count": 33,
   "metadata": {},
   "outputs": [
    {
     "name": "stdout",
     "output_type": "stream",
     "text": [
      "Random over-sampling:\n",
      "2    4325\n",
      "1    4325\n",
      "0    4325\n",
      "Name: label, dtype: int64\n"
     ]
    },
    {
     "data": {
      "image/png": "[encoded data removed]",
      "text/plain": [
       "<Figure size 432x288 with 1 Axes>"
      ]
     },
     "metadata": {
      "needs_background": "light"
     },
     "output_type": "display_data"
    }
   ],
   "source": [
    "df_classes_over = dict()\n",
    "training_file_names_over = pd.DataFrame()\n",
    "for key in df_classes:\n",
    "    df_classes_over[key]= df_classes[key].sample(max(training_file_names.label.value_counts().values), replace=True)\n",
    "    training_file_names_over = pd.concat([training_file_names_over, df_classes_over[key]], axis=0)\n",
    "#training_file_names_over = pd.concat([df_class_0, df_class_1_over, df_class_2_over, df_class_3_over, df_class_4_over], axis=0)\n",
    "\n",
    "print('Random over-sampling:')\n",
    "print(training_file_names_over.label.value_counts())\n",
    "training_file_names_over.label.value_counts().plot(kind='bar', title='Count (target)')\n",
    "plt.show()"
   ]
  },
  {
   "cell_type": "code",
   "execution_count": 34,
   "metadata": {},
   "outputs": [
    {
     "data": {
      "text/html": [
       "<div>\n",
       "<style scoped>\n",
       "    .dataframe tbody tr th:only-of-type {\n",
       "        vertical-align: middle;\n",
       "    }\n",
       "\n",
       "    .dataframe tbody tr th {\n",
       "        vertical-align: top;\n",
       "    }\n",
       "\n",
       "    .dataframe thead th {\n",
       "        text-align: right;\n",
       "    }\n",
       "</style>\n",
       "<table border=\"1\" class=\"dataframe\">\n",
       "  <thead>\n",
       "    <tr style=\"text-align: right;\">\n",
       "      <th></th>\n",
       "      <th>filename</th>\n",
       "      <th>ind</th>\n",
       "      <th>label</th>\n",
       "      <th>subject</th>\n",
       "    </tr>\n",
       "  </thead>\n",
       "  <tbody>\n",
       "    <tr>\n",
       "      <td>0</td>\n",
       "      <td>109_S_4380_S377818-T1_T1_brain_mni305.nii</td>\n",
       "      <td>109_S_4380_377818</td>\n",
       "      <td>1</td>\n",
       "      <td>109_S_4380</td>\n",
       "    </tr>\n",
       "    <tr>\n",
       "      <td>1</td>\n",
       "      <td>067_S_0059_S60702_T1_brain_mni305.nii</td>\n",
       "      <td>067_S_0059_60702</td>\n",
       "      <td>0</td>\n",
       "      <td>067_S_0059</td>\n",
       "    </tr>\n",
       "    <tr>\n",
       "      <td>2</td>\n",
       "      <td>062_S_0793_S27205_T1_brain_mni305.nii</td>\n",
       "      <td>062_S_0793_27205</td>\n",
       "      <td>2</td>\n",
       "      <td>062_S_0793</td>\n",
       "    </tr>\n",
       "    <tr>\n",
       "      <td>3</td>\n",
       "      <td>013_S_0699_S18365_T1_brain_mni305.nii</td>\n",
       "      <td>013_S_0699_18365</td>\n",
       "      <td>2</td>\n",
       "      <td>013_S_0699</td>\n",
       "    </tr>\n",
       "    <tr>\n",
       "      <td>4</td>\n",
       "      <td>941_S_4376_S718162_T1_brain_mni305.nii</td>\n",
       "      <td>941_S_4376_718162</td>\n",
       "      <td>0</td>\n",
       "      <td>941_S_4376</td>\n",
       "    </tr>\n",
       "  </tbody>\n",
       "</table>\n",
       "</div>"
      ],
      "text/plain": [
       "                                    filename                ind label  \\\n",
       "0  109_S_4380_S377818-T1_T1_brain_mni305.nii  109_S_4380_377818     1   \n",
       "1      067_S_0059_S60702_T1_brain_mni305.nii   067_S_0059_60702     0   \n",
       "2      062_S_0793_S27205_T1_brain_mni305.nii   062_S_0793_27205     2   \n",
       "3      013_S_0699_S18365_T1_brain_mni305.nii   013_S_0699_18365     2   \n",
       "4     941_S_4376_S718162_T1_brain_mni305.nii  941_S_4376_718162     0   \n",
       "\n",
       "      subject  \n",
       "0  109_S_4380  \n",
       "1  067_S_0059  \n",
       "2  062_S_0793  \n",
       "3  013_S_0699  \n",
       "4  941_S_4376  "
      ]
     },
     "metadata": {},
     "output_type": "display_data"
    },
    {
     "data": {
      "text/plain": [
       "(12975, 4)"
      ]
     },
     "execution_count": 34,
     "metadata": {},
     "output_type": "execute_result"
    }
   ],
   "source": [
    "training_file_names_over = training_file_names_over.sample(frac=1).reset_index(drop=True)\n",
    "display(training_file_names_over.head())\n",
    "training_file_names_over.shape"
   ]
  },
  {
   "cell_type": "code",
   "execution_count": 35,
   "metadata": {},
   "outputs": [],
   "source": [
    "if not os.path.exists('../data'):\n",
    "    os.makedirs('../data')\n",
    "\n",
    "training_file_names_over.to_csv('../data/training_file_names_over.csv')\n",
    "testing_file_names.to_csv('../data/testing_file_names.csv')\n",
    "validation_file_names.to_csv('../data/validation_file_names.csv')"
   ]
  },
  {
   "cell_type": "code",
   "execution_count": 36,
   "metadata": {},
   "outputs": [],
   "source": [
    "def write_tfrecords(save_filename, file_names, min_, max_):\n",
    "    '''\n",
    "    raveling all three dimensions and normalizing every entry\n",
    "    '''\n",
    "    i=0\n",
    "    start_time = time.time()\n",
    "    strategy = tf.distribute.MirroredStrategy()\n",
    "    with strategy.scope():\n",
    "        writer = tf.compat.v1.python_io.TFRecordWriter(save_filename)\n",
    "        for index, row in file_names.iterrows():\n",
    "            filename = row['filename']\n",
    "            label = int(row['label'])\n",
    "            name = str.encode(row['ind'])\n",
    "            image_ = nib.load(rel_path + filename)\n",
    "            im = image_.get_data()\n",
    "            normalized_im = (im.ravel()-min_)/(max_+0.0001-min_)\n",
    "            feature = {'label': _int64_feature(label),\n",
    "                   'image': _float_feature(normalized_im),\n",
    "                     'name': _bytes_feature(name)}\n",
    "            # Create an example protocol buffer - Protocol buffers are a cross-platform, \n",
    "            #    cross-language library for efficient serialization of structured data.\n",
    "            example = tf.train.Example(features=tf.train.Features(feature=feature))\n",
    "            # Serialize to string and write on the file\n",
    "            writer.write(example.SerializeToString())\n",
    "            i+=1\n",
    "            if i%200==0:\n",
    "                print('i: ',i)\n",
    "                print(\"--- {:.0f} seconds ---\".format(time.time() - start_time))\n",
    "        writer.close()"
   ]
  },
  {
   "cell_type": "code",
   "execution_count": 37,
   "metadata": {},
   "outputs": [
    {
     "name": "stdout",
     "output_type": "stream",
     "text": [
      "i:  200\n",
      "--- 1210 seconds ---\n",
      "i:  400\n",
      "--- 2296 seconds ---\n",
      "i:  600\n",
      "--- 3387 seconds ---\n",
      "i:  800\n",
      "--- 4486 seconds ---\n",
      "i:  1000\n",
      "--- 5588 seconds ---\n",
      "i:  1200\n",
      "--- 6684 seconds ---\n",
      "i:  1400\n",
      "--- 7782 seconds ---\n",
      "i:  1600\n",
      "--- 8877 seconds ---\n",
      "i:  1800\n",
      "--- 9962 seconds ---\n",
      "i:  2000\n",
      "--- 11052 seconds ---\n",
      "i:  2200\n",
      "--- 12132 seconds ---\n",
      "i:  2400\n",
      "--- 13220 seconds ---\n",
      "i:  2600\n",
      "--- 14307 seconds ---\n",
      "i:  2800\n",
      "--- 15400 seconds ---\n",
      "i:  3000\n",
      "--- 16490 seconds ---\n",
      "i:  3200\n",
      "--- 17579 seconds ---\n",
      "i:  3400\n",
      "--- 18683 seconds ---\n",
      "i:  3600\n",
      "--- 19789 seconds ---\n",
      "i:  3800\n",
      "--- 20887 seconds ---\n",
      "i:  4000\n",
      "--- 21977 seconds ---\n",
      "i:  4200\n",
      "--- 23073 seconds ---\n",
      "i:  4400\n",
      "--- 24165 seconds ---\n",
      "i:  4600\n",
      "--- 25254 seconds ---\n",
      "i:  4800\n",
      "--- 26349 seconds ---\n",
      "i:  5000\n",
      "--- 27445 seconds ---\n",
      "i:  5200\n",
      "--- 28535 seconds ---\n",
      "i:  5400\n",
      "--- 29629 seconds ---\n",
      "i:  5600\n",
      "--- 30723 seconds ---\n",
      "i:  5800\n",
      "--- 31808 seconds ---\n",
      "i:  6000\n",
      "--- 32897 seconds ---\n",
      "i:  6200\n",
      "--- 33990 seconds ---\n",
      "i:  6400\n",
      "--- 35082 seconds ---\n",
      "i:  6600\n",
      "--- 36172 seconds ---\n",
      "i:  6800\n",
      "--- 37263 seconds ---\n",
      "i:  7000\n",
      "--- 38355 seconds ---\n",
      "i:  7200\n",
      "--- 39445 seconds ---\n",
      "i:  7400\n",
      "--- 40533 seconds ---\n",
      "i:  7600\n",
      "--- 41637 seconds ---\n",
      "i:  7800\n",
      "--- 42735 seconds ---\n",
      "i:  8000\n",
      "--- 43838 seconds ---\n",
      "i:  8200\n",
      "--- 44942 seconds ---\n",
      "i:  8400\n",
      "--- 46039 seconds ---\n",
      "i:  8600\n",
      "--- 47140 seconds ---\n",
      "i:  8800\n",
      "--- 48247 seconds ---\n",
      "i:  9000\n",
      "--- 49351 seconds ---\n",
      "i:  9200\n",
      "--- 50446 seconds ---\n",
      "i:  9400\n",
      "--- 51553 seconds ---\n",
      "i:  9600\n",
      "--- 52659 seconds ---\n",
      "i:  9800\n",
      "--- 53758 seconds ---\n",
      "i:  10000\n",
      "--- 54862 seconds ---\n",
      "i:  10200\n",
      "--- 55969 seconds ---\n",
      "i:  10400\n",
      "--- 57073 seconds ---\n",
      "i:  10600\n",
      "--- 58180 seconds ---\n",
      "i:  10800\n",
      "--- 59290 seconds ---\n",
      "i:  11000\n",
      "--- 60403 seconds ---\n",
      "i:  11200\n",
      "--- 61506 seconds ---\n",
      "i:  11400\n",
      "--- 62609 seconds ---\n",
      "i:  11600\n",
      "--- 63708 seconds ---\n",
      "i:  11800\n",
      "--- 64810 seconds ---\n",
      "i:  12000\n",
      "--- 65912 seconds ---\n",
      "i:  12200\n",
      "--- 67015 seconds ---\n",
      "i:  12400\n",
      "--- 68119 seconds ---\n",
      "i:  12600\n",
      "--- 69223 seconds ---\n",
      "i:  12800\n",
      "--- 70333 seconds ---\n",
      "i:  200\n",
      "--- 1077 seconds ---\n",
      "i:  400\n",
      "--- 2160 seconds ---\n",
      "i:  600\n",
      "--- 3231 seconds ---\n",
      "i:  800\n",
      "--- 4314 seconds ---\n",
      "i:  200\n",
      "--- 1078 seconds ---\n",
      "i:  400\n",
      "--- 2157 seconds ---\n",
      "i:  600\n",
      "--- 3225 seconds ---\n",
      "i:  800\n",
      "--- 4305 seconds ---\n"
     ]
    }
   ],
   "source": [
    "write_tfrecords('../data/training_flat_256_3d.tfrecords', training_file_names_over, min_flat, max_flat)\n",
    "write_tfrecords('../data/testing_flat_256_3d.tfrecords', testing_file_names, min_flat, max_flat)\n",
    "write_tfrecords('../data/validation_flat_256_3d.tfrecords', validation_file_names, min_flat, max_flat)"
   ]
  },
  {
   "cell_type": "code",
   "execution_count": 37,
   "metadata": {},
   "outputs": [],
   "source": []
  },
  {
   "cell_type": "code",
   "execution_count": null,
   "metadata": {},
   "outputs": [],
   "source": []
  }
 ],
 "metadata": {
  "kernelspec": {
   "display_name": "Python 3",
   "language": "python",
   "name": "python3"
  },
  "language_info": {
   "codemirror_mode": {
    "name": "ipython",
    "version": 3
   },
   "file_extension": ".py",
   "mimetype": "text/x-python",
   "name": "python",
   "nbconvert_exporter": "python",
   "pygments_lexer": "ipython3",
   "version": "3.5.3"
  }
 },
 "nbformat": 4,
 "nbformat_minor": 4
}
