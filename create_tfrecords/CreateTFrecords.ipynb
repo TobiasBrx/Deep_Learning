{
 "cells": [
  {
   "cell_type": "code",
   "execution_count": 1,
   "metadata": {},
   "outputs": [
    {
     "name": "stderr",
     "output_type": "stream",
     "text": [
      "/Users/tobiasbraun/anaconda3/lib/python3.7/site-packages/sklearn/externals/joblib/__init__.py:15: DeprecationWarning: sklearn.externals.joblib is deprecated in 0.21 and will be removed in 0.23. Please import this functionality directly from joblib, which can be installed with: pip install joblib. If this warning is raised when loading pickled models, you may need to re-serialize those models with scikit-learn 0.21+.\n",
      "  warnings.warn(msg, category=DeprecationWarning)\n"
     ]
    }
   ],
   "source": [
    "from google.oauth2 import service_account\n",
    "from google.cloud import storage\n",
    "import tarfile\n",
    "from zipfile import ZipFile\n",
    "from zipfile import is_zipfile\n",
    "import io\n",
    "import nibabel as nib\n",
    "import os\n",
    "import pandas as pd\n",
    "import tensorflow as tf\n",
    "import gcsfs\n",
    "import random\n",
    "from nilearn import image\n",
    "import numpy as np"
   ]
  },
  {
   "cell_type": "code",
   "execution_count": 32,
   "metadata": {},
   "outputs": [],
   "source": [
    "#change path\n",
    "file_path = '/Users/tobiasbraun/Documents/Studium USA/Columbia University/Semester 3/Deep Learning/Codes/Project/'"
   ]
  },
  {
   "cell_type": "code",
   "execution_count": 33,
   "metadata": {},
   "outputs": [],
   "source": [
    "api_key = file_path + \"deep-learning-255016-4350337ed6f4.json\"\n",
    "credentials = service_account.Credentials.from_service_account_file(api_key)\n",
    "client = storage.Client(credentials=credentials, project=\"deep-learning\")"
   ]
  },
  {
   "cell_type": "code",
   "execution_count": 56,
   "metadata": {},
   "outputs": [],
   "source": [
    "fs = gcsfs.GCSFileSystem(token=api_key, project=\"deep-learning\")\n",
    "with fs.open('mri_data_bucket/ADNI_t1_list_with_fsstatus_20190111.csv') as f:\n",
    "    df = pd.read_csv(f)\n",
    "\n",
    "df.to_csv('labels.csv')"
   ]
  },
  {
   "cell_type": "code",
   "execution_count": 57,
   "metadata": {},
   "outputs": [],
   "source": [
    "bucket_name = \"mri_data_bucket\"\n",
    "bucket = client.get_bucket(bucket_name)\n",
    "prefix = \"data\""
   ]
  },
  {
   "cell_type": "code",
   "execution_count": 58,
   "metadata": {},
   "outputs": [],
   "source": [
    "bucket = client.get_bucket(bucket_name)\n",
    "blobs = bucket.list_blobs(prefix=prefix)\n",
    "\n",
    "file_names_list = []\n",
    "for blob in blobs:\n",
    "        #print(blob.name)\n",
    "        file_names_list.append(blob.name)\n"
   ]
  },
  {
   "cell_type": "code",
   "execution_count": 59,
   "metadata": {},
   "outputs": [],
   "source": [
    "def _int64_feature(value):\n",
    "    return tf.train.Feature(int64_list=tf.train.Int64List(value=[value]))\n",
    "\n",
    "def _float_feature(value):\n",
    "    return tf.train.Feature(float_list=tf.train.FloatList(value=value))\n",
    "\n",
    "def _bytes_feature(value):\n",
    "    return tf.train.Feature(bytes_list=tf.train.BytesList(value=[value]))\n"
   ]
  },
  {
   "cell_type": "code",
   "execution_count": 60,
   "metadata": {},
   "outputs": [
    {
     "data": {
      "text/plain": [
       "(9648, 1)"
      ]
     },
     "execution_count": 60,
     "metadata": {},
     "output_type": "execute_result"
    }
   ],
   "source": [
    "labels=df[['Subject','T1.SERIESID','Group']].copy()\n",
    "\n",
    "labels=labels[(labels.Group == 'CN')|(labels.Group == 'AD')|(labels.Group == 'EMCI')|(labels.Group == 'LMCI')|(labels.Group == 'MCI')]\n",
    "\n",
    "labels['new_ind']=labels['Subject']+\"_\"+labels['T1.SERIESID'].astype(str)\n",
    "labels.loc[labels.Group == 'CN','Group']=0\n",
    "labels.loc[labels.Group == 'AD','Group']=1\n",
    "labels.loc[labels.Group == 'EMCI','Group']=2\n",
    "labels.loc[labels.Group == 'LMCI','Group']=3\n",
    "labels.loc[labels.Group == 'MCI','Group']=4\n",
    "labels = labels.set_index('new_ind')\n",
    "labels=labels.drop(columns=['Subject','T1.SERIESID'])\n",
    "\n",
    "labels.shape"
   ]
  },
  {
   "cell_type": "code",
   "execution_count": 40,
   "metadata": {},
   "outputs": [
    {
     "data": {
      "text/plain": [
       "10435"
      ]
     },
     "execution_count": 40,
     "metadata": {},
     "output_type": "execute_result"
    }
   ],
   "source": [
    "file_names=file_names_list\n",
    "#file_names_list\n",
    "len(file_names_list)"
   ]
  },
  {
   "cell_type": "code",
   "execution_count": 41,
   "metadata": {},
   "outputs": [],
   "source": [
    "import re\n",
    "pattern1 = re.compile(r'S\\d+')\n",
    "pattern2 = re.compile(r'\\d+_S_\\d+')"
   ]
  },
  {
   "cell_type": "code",
   "execution_count": 61,
   "metadata": {},
   "outputs": [],
   "source": [
    "def download(file_names):\n",
    "    count=0\n",
    "    for filename in file_names:\n",
    "        filename=filename[5:]\n",
    "        #try:\n",
    "        series_id = re.search(pattern1, filename).group(0)[1:]\n",
    "        subject = re.search(pattern2,filename).group(0)\n",
    "        ind=subject+\"_\"+series_id\n",
    "\n",
    "        label=labels.loc[ind,'Group']          \n",
    "        blob = bucket.blob('data/'+filename)\n",
    "        print(blob.name)\n",
    "        blob.download_to_filename(file_path+'data/'+filename)\n",
    "        count+=1\n",
    "\n",
    "            #if count % 100 ==0:\n",
    "             #   print(count)\n",
    "        #except:\n",
    "        #    continue\n",
    "#download(file_names_list)"
   ]
  },
  {
   "cell_type": "code",
   "execution_count": 46,
   "metadata": {},
   "outputs": [],
   "source": [
    "def normalise(file_names):\n",
    "    count=0\n",
    "    \n",
    "    min_x=np.ones(256**3)*np.inf\n",
    "    max_x=np.zeros(256**3)\n",
    "    for filename in file_names:\n",
    "        filename=filename[5:]\n",
    "        try:\n",
    "            image_ = nib.load('data/'+filename)\n",
    "            image = image_.get_data()\n",
    "            #=image[:,:,:]#,:,:]#,50:206,50:206]\n",
    "            x=np.array(image.ravel())\n",
    "                       \n",
    "            min_x=np.minimum(min_x,x)           \n",
    "            max_x=np.maximum(max_x,x)\n",
    "\n",
    "            count+=1\n",
    "            if count % 100 ==0:\n",
    "                print(count)\n",
    "        except:\n",
    "            continue\n",
    "            \n",
    "    min_ = min_x\n",
    "    max_ = max_x\n",
    "    return min_, max_"
   ]
  },
  {
   "cell_type": "code",
   "execution_count": 25,
   "metadata": {},
   "outputs": [
    {
     "name": "stdout",
     "output_type": "stream",
     "text": [
      "10435\n"
     ]
    }
   ],
   "source": [
    "min_flat, max_flat = normalise(file_names_list)"
   ]
  },
  {
   "cell_type": "code",
   "execution_count": 20,
   "metadata": {},
   "outputs": [
    {
     "data": {
      "text/plain": [
       "(16777216,)"
      ]
     },
     "execution_count": 20,
     "metadata": {},
     "output_type": "execute_result"
    }
   ],
   "source": [
    "min_flat.shape"
   ]
  },
  {
   "cell_type": "code",
   "execution_count": 53,
   "metadata": {},
   "outputs": [],
   "source": [
    "# for filename in file_names_list[7:10]:\n",
    "#     filename=filename[5:]\n",
    "    \n",
    "#     image_ = nib.load('data/'+filename)\n",
    "#     print('a')\n",
    "\n",
    "#     image = image_.get_data()\n",
    "\n",
    "#     x=image[127,:,:]#[127,50:216,50:216]\n",
    "#     x=np.array(x.ravel())\n",
    "\n",
    "#     y=image[:,127,:]#[50:216,127,50:216]\n",
    "#     y=np.array(y.ravel())\n",
    "\n",
    "#     z=image[5:,:,127]#[50:216,50:216,127]\n",
    "#     z=np.array(z.ravel())\n",
    "\n",
    "#     min_x=np.amin(np.array([min_x,x]), axis=0)\n",
    "#     min_y=np.amin(np.array([min_y,y]), axis=0)\n",
    "#     min_z=np.amin(np.array([min_z,z]), axis=0)\n",
    "\n",
    "#     max_x=np.amax(np.array([max_x,x]), axis=0)\n",
    "#     max_y=np.amax(np.array([max_y,y]), axis=0)\n",
    "#     max_z=np.amax(np.array([max_z,z]), axis=0)\n",
    "#     count+=1"
   ]
  },
  {
   "cell_type": "code",
   "execution_count": 54,
   "metadata": {},
   "outputs": [
    {
     "ename": "FileNotFoundError",
     "evalue": "[Errno 2] No such file or directory: 'Normalizing_files/min_flat_3d.npy'",
     "output_type": "error",
     "traceback": [
      "\u001b[0;31m---------------------------------------------------------------------------\u001b[0m",
      "\u001b[0;31mFileNotFoundError\u001b[0m                         Traceback (most recent call last)",
      "\u001b[0;32m<ipython-input-54-882a7e7c208c>\u001b[0m in \u001b[0;36m<module>\u001b[0;34m\u001b[0m\n\u001b[0;32m----> 1\u001b[0;31m \u001b[0mnp\u001b[0m\u001b[0;34m.\u001b[0m\u001b[0msave\u001b[0m\u001b[0;34m(\u001b[0m\u001b[0;34m'Normalizing_files/min_flat_3d'\u001b[0m\u001b[0;34m,\u001b[0m\u001b[0mmin_flat\u001b[0m\u001b[0;34m[\u001b[0m\u001b[0;36m0\u001b[0m\u001b[0;34m]\u001b[0m\u001b[0;34m)\u001b[0m\u001b[0;34m\u001b[0m\u001b[0;34m\u001b[0m\u001b[0m\n\u001b[0m\u001b[1;32m      2\u001b[0m \u001b[0mnp\u001b[0m\u001b[0;34m.\u001b[0m\u001b[0msave\u001b[0m\u001b[0;34m(\u001b[0m\u001b[0;34m'Normalizing_files/max_flat_3d'\u001b[0m\u001b[0;34m,\u001b[0m\u001b[0mmax_flat\u001b[0m\u001b[0;34m[\u001b[0m\u001b[0;36m0\u001b[0m\u001b[0;34m]\u001b[0m\u001b[0;34m)\u001b[0m\u001b[0;34m\u001b[0m\u001b[0;34m\u001b[0m\u001b[0m\n",
      "\u001b[0;32m~/anaconda3/lib/python3.7/site-packages/numpy/lib/npyio.py\u001b[0m in \u001b[0;36msave\u001b[0;34m(file, arr, allow_pickle, fix_imports)\u001b[0m\n\u001b[1;32m    522\u001b[0m         \u001b[0;32mif\u001b[0m \u001b[0;32mnot\u001b[0m \u001b[0mfile\u001b[0m\u001b[0;34m.\u001b[0m\u001b[0mendswith\u001b[0m\u001b[0;34m(\u001b[0m\u001b[0;34m'.npy'\u001b[0m\u001b[0;34m)\u001b[0m\u001b[0;34m:\u001b[0m\u001b[0;34m\u001b[0m\u001b[0;34m\u001b[0m\u001b[0m\n\u001b[1;32m    523\u001b[0m             \u001b[0mfile\u001b[0m \u001b[0;34m=\u001b[0m \u001b[0mfile\u001b[0m \u001b[0;34m+\u001b[0m \u001b[0;34m'.npy'\u001b[0m\u001b[0;34m\u001b[0m\u001b[0;34m\u001b[0m\u001b[0m\n\u001b[0;32m--> 524\u001b[0;31m         \u001b[0mfid\u001b[0m \u001b[0;34m=\u001b[0m \u001b[0mopen\u001b[0m\u001b[0;34m(\u001b[0m\u001b[0mfile\u001b[0m\u001b[0;34m,\u001b[0m \u001b[0;34m\"wb\"\u001b[0m\u001b[0;34m)\u001b[0m\u001b[0;34m\u001b[0m\u001b[0;34m\u001b[0m\u001b[0m\n\u001b[0m\u001b[1;32m    525\u001b[0m         \u001b[0mown_fid\u001b[0m \u001b[0;34m=\u001b[0m \u001b[0;32mTrue\u001b[0m\u001b[0;34m\u001b[0m\u001b[0;34m\u001b[0m\u001b[0m\n\u001b[1;32m    526\u001b[0m \u001b[0;34m\u001b[0m\u001b[0m\n",
      "\u001b[0;31mFileNotFoundError\u001b[0m: [Errno 2] No such file or directory: 'Normalizing_files/min_flat_3d.npy'"
     ]
    }
   ],
   "source": [
    "np.save('Normalizing_files/min_flat_3d',min_flat[0])\n",
    "np.save('Normalizing_files/max_flat_3d',max_flat[0])"
   ]
  },
  {
   "cell_type": "code",
   "execution_count": 16,
   "metadata": {},
   "outputs": [],
   "source": [
    "min_flat_x = np.load('Normalizing_files/min_flat_3d.npy')\n",
    "max_flat_x = np.load('Normalizing_files/max_flat_3d.npy')\n",
    "\n",
    "# min_flat_y = np.load('Normalizing_files/min_flat_y_156.npy')\n",
    "# max_flat_y = np.load('Normalizing_files/max_flat_y_156.npy')\n",
    "\n",
    "# min_flat_z = np.load('Normalizing_files/min_flat_z_156.npy')\n",
    "# max_flat_z = np.load('Normalizing_files/max_flat_z_156.npy')"
   ]
  },
  {
   "cell_type": "code",
   "execution_count": 17,
   "metadata": {},
   "outputs": [],
   "source": [
    "import re\n",
    "pattern1 = re.compile(r'S\\d+')\n",
    "pattern2 = re.compile(r'\\d+_S_\\d+')"
   ]
  },
  {
   "cell_type": "code",
   "execution_count": 18,
   "metadata": {},
   "outputs": [
    {
     "data": {
      "text/html": [
       "<div>\n",
       "<style scoped>\n",
       "    .dataframe tbody tr th:only-of-type {\n",
       "        vertical-align: middle;\n",
       "    }\n",
       "\n",
       "    .dataframe tbody tr th {\n",
       "        vertical-align: top;\n",
       "    }\n",
       "\n",
       "    .dataframe thead th {\n",
       "        text-align: right;\n",
       "    }\n",
       "</style>\n",
       "<table border=\"1\" class=\"dataframe\">\n",
       "  <thead>\n",
       "    <tr style=\"text-align: right;\">\n",
       "      <th></th>\n",
       "      <th>filename</th>\n",
       "      <th>ind</th>\n",
       "      <th>label</th>\n",
       "    </tr>\n",
       "  </thead>\n",
       "  <tbody>\n",
       "    <tr>\n",
       "      <th>1</th>\n",
       "      <td>002_S_0295_S110476-T1_T1_brain_mni305.nii</td>\n",
       "      <td>002_S_0295_110476</td>\n",
       "      <td>0</td>\n",
       "    </tr>\n",
       "    <tr>\n",
       "      <th>2</th>\n",
       "      <td>002_S_0295_S13408_T1_brain_mni305.nii</td>\n",
       "      <td>002_S_0295_13408</td>\n",
       "      <td>0</td>\n",
       "    </tr>\n",
       "    <tr>\n",
       "      <th>3</th>\n",
       "      <td>002_S_0295_S150055-T1_T1_brain_mni305.nii</td>\n",
       "      <td>002_S_0295_150055</td>\n",
       "      <td>0</td>\n",
       "    </tr>\n",
       "    <tr>\n",
       "      <th>4</th>\n",
       "      <td>002_S_0295_S21856_T1_brain_mni305.nii</td>\n",
       "      <td>002_S_0295_21856</td>\n",
       "      <td>0</td>\n",
       "    </tr>\n",
       "    <tr>\n",
       "      <th>5</th>\n",
       "      <td>002_S_0295_S32678_T1_brain_mni305.nii</td>\n",
       "      <td>002_S_0295_32678</td>\n",
       "      <td>0</td>\n",
       "    </tr>\n",
       "    <tr>\n",
       "      <th>6</th>\n",
       "      <td>002_S_0295_S54061_T1_brain_mni305.nii</td>\n",
       "      <td>002_S_0295_54061</td>\n",
       "      <td>0</td>\n",
       "    </tr>\n",
       "    <tr>\n",
       "      <th>7</th>\n",
       "      <td>002_S_0295_S67612_T1_brain_mni305.nii</td>\n",
       "      <td>002_S_0295_67612</td>\n",
       "      <td>0</td>\n",
       "    </tr>\n",
       "    <tr>\n",
       "      <th>8</th>\n",
       "      <td>002_S_0295_S84944_T1_brain_mni305.nii</td>\n",
       "      <td>002_S_0295_84944</td>\n",
       "      <td>0</td>\n",
       "    </tr>\n",
       "    <tr>\n",
       "      <th>10</th>\n",
       "      <td>002_S_0413_S111992-T1_T1_brain_mni305.nii</td>\n",
       "      <td>002_S_0413_111992</td>\n",
       "      <td>0</td>\n",
       "    </tr>\n",
       "    <tr>\n",
       "      <th>11</th>\n",
       "      <td>002_S_0413_S13893_T1_brain_mni305.nii</td>\n",
       "      <td>002_S_0413_13893</td>\n",
       "      <td>0</td>\n",
       "    </tr>\n",
       "    <tr>\n",
       "      <th>12</th>\n",
       "      <td>002_S_0413_S14781-T1_T1_brain_mni305.nii</td>\n",
       "      <td>002_S_0413_14781</td>\n",
       "      <td>0</td>\n",
       "    </tr>\n",
       "    <tr>\n",
       "      <th>13</th>\n",
       "      <td>002_S_0413_S150697-T1_T1_brain_mni305.nii</td>\n",
       "      <td>002_S_0413_150697</td>\n",
       "      <td>0</td>\n",
       "    </tr>\n",
       "    <tr>\n",
       "      <th>14</th>\n",
       "      <td>002_S_0413_S189127-T1_T1_brain_mni305.nii</td>\n",
       "      <td>002_S_0413_189127</td>\n",
       "      <td>0</td>\n",
       "    </tr>\n",
       "    <tr>\n",
       "      <th>15</th>\n",
       "      <td>002_S_0413_S217526-T1_T1_brain_mni305.nii</td>\n",
       "      <td>002_S_0413_217526</td>\n",
       "      <td>0</td>\n",
       "    </tr>\n",
       "    <tr>\n",
       "      <th>16</th>\n",
       "      <td>002_S_0413_S22557_T1_brain_mni305.nii</td>\n",
       "      <td>002_S_0413_22557</td>\n",
       "      <td>0</td>\n",
       "    </tr>\n",
       "    <tr>\n",
       "      <th>17</th>\n",
       "      <td>002_S_0413_S322084-T1_T1_brain_mni305.nii</td>\n",
       "      <td>002_S_0413_322084</td>\n",
       "      <td>0</td>\n",
       "    </tr>\n",
       "    <tr>\n",
       "      <th>18</th>\n",
       "      <td>002_S_0413_S32938_T1_brain_mni305.nii</td>\n",
       "      <td>002_S_0413_32938</td>\n",
       "      <td>0</td>\n",
       "    </tr>\n",
       "    <tr>\n",
       "      <th>19</th>\n",
       "      <td>002_S_0413_S54591_T1_brain_mni305.nii</td>\n",
       "      <td>002_S_0413_54591</td>\n",
       "      <td>0</td>\n",
       "    </tr>\n",
       "    <tr>\n",
       "      <th>20</th>\n",
       "      <td>002_S_0413_S574065-T1_T1_brain_mni305.nii</td>\n",
       "      <td>002_S_0413_574065</td>\n",
       "      <td>0</td>\n",
       "    </tr>\n",
       "    <tr>\n",
       "      <th>22</th>\n",
       "      <td>002_S_0413_S66926_T1_brain_mni305.nii</td>\n",
       "      <td>002_S_0413_66926</td>\n",
       "      <td>0</td>\n",
       "    </tr>\n",
       "  </tbody>\n",
       "</table>\n",
       "</div>"
      ],
      "text/plain": [
       "                                     filename                ind label\n",
       "1   002_S_0295_S110476-T1_T1_brain_mni305.nii  002_S_0295_110476     0\n",
       "2       002_S_0295_S13408_T1_brain_mni305.nii   002_S_0295_13408     0\n",
       "3   002_S_0295_S150055-T1_T1_brain_mni305.nii  002_S_0295_150055     0\n",
       "4       002_S_0295_S21856_T1_brain_mni305.nii   002_S_0295_21856     0\n",
       "5       002_S_0295_S32678_T1_brain_mni305.nii   002_S_0295_32678     0\n",
       "6       002_S_0295_S54061_T1_brain_mni305.nii   002_S_0295_54061     0\n",
       "7       002_S_0295_S67612_T1_brain_mni305.nii   002_S_0295_67612     0\n",
       "8       002_S_0295_S84944_T1_brain_mni305.nii   002_S_0295_84944     0\n",
       "10  002_S_0413_S111992-T1_T1_brain_mni305.nii  002_S_0413_111992     0\n",
       "11      002_S_0413_S13893_T1_brain_mni305.nii   002_S_0413_13893     0\n",
       "12   002_S_0413_S14781-T1_T1_brain_mni305.nii   002_S_0413_14781     0\n",
       "13  002_S_0413_S150697-T1_T1_brain_mni305.nii  002_S_0413_150697     0\n",
       "14  002_S_0413_S189127-T1_T1_brain_mni305.nii  002_S_0413_189127     0\n",
       "15  002_S_0413_S217526-T1_T1_brain_mni305.nii  002_S_0413_217526     0\n",
       "16      002_S_0413_S22557_T1_brain_mni305.nii   002_S_0413_22557     0\n",
       "17  002_S_0413_S322084-T1_T1_brain_mni305.nii  002_S_0413_322084     0\n",
       "18      002_S_0413_S32938_T1_brain_mni305.nii   002_S_0413_32938     0\n",
       "19      002_S_0413_S54591_T1_brain_mni305.nii   002_S_0413_54591     0\n",
       "20  002_S_0413_S574065-T1_T1_brain_mni305.nii  002_S_0413_574065     0\n",
       "22      002_S_0413_S66926_T1_brain_mni305.nii   002_S_0413_66926     0"
      ]
     },
     "execution_count": 18,
     "metadata": {},
     "output_type": "execute_result"
    }
   ],
   "source": [
    "file_names=pd.DataFrame()\n",
    "for filename in file_names_list:\n",
    "    row=dict()\n",
    "    row['filename']=filename[5:]\n",
    "    filename=filename[5:]\n",
    "    try:\n",
    "        series_id = re.search(pattern1, filename).group(0)[1:]\n",
    "        subject = re.search(pattern2,filename).group(0)\n",
    "        ind=subject+\"_\"+series_id\n",
    "        row['ind']=ind\n",
    "        row['label']=labels.loc[ind,'Group'] \n",
    "    except:\n",
    "        row['ind']= 'No label'\n",
    "        row['label']= 'No label'   \n",
    "    file_names=file_names.append(row,ignore_index=True)\n",
    "\n",
    "file_names = file_names[file_names['ind']!='No label']\n",
    "file_names[:20]"
   ]
  },
  {
   "cell_type": "code",
   "execution_count": 19,
   "metadata": {},
   "outputs": [],
   "source": [
    "# shuffle table:\n",
    "file_names = file_names.sample(frac=1)"
   ]
  },
  {
   "cell_type": "code",
   "execution_count": 20,
   "metadata": {},
   "outputs": [],
   "source": [
    "cut = int(len(file_names)/10)\n",
    "\n",
    "testing_file_names = file_names[:cut]\n",
    "validation_file_names = file_names[cut:2*cut]\n",
    "training_file_names = file_names[2*cut:]"
   ]
  },
  {
   "cell_type": "code",
   "execution_count": 21,
   "metadata": {},
   "outputs": [
    {
     "name": "stdout",
     "output_type": "stream",
     "text": [
      "Class 0: 2402\n",
      "Class 1: 1011\n",
      "Class 2: 1427\n",
      "Class 3: 703\n",
      "Class 4: 2177\n",
      "Proportion: 2.38 : 1\n"
     ]
    },
    {
     "data": {
      "text/plain": [
       "<matplotlib.axes._subplots.AxesSubplot at 0x7fb92460ffd0>"
      ]
     },
     "execution_count": 21,
     "metadata": {},
     "output_type": "execute_result"
    },
    {
     "data": {
      "image/png": "[encoded data removed]",
      "text/plain": [
       "<Figure size 432x288 with 1 Axes>"
      ]
     },
     "metadata": {
      "needs_background": "light"
     },
     "output_type": "display_data"
    }
   ],
   "source": [
    "target_count = training_file_names.label.value_counts()\n",
    "print('Class 0:', target_count[0])\n",
    "print('Class 1:', target_count[1])\n",
    "print('Class 2:', target_count[2])\n",
    "print('Class 3:', target_count[3])\n",
    "print('Class 4:', target_count[4])\n",
    "print('Proportion:', round(target_count[0] / target_count[1], 2), ': 1')\n",
    "\n",
    "target_count.plot(kind='bar', title='Count (target)')"
   ]
  },
  {
   "cell_type": "code",
   "execution_count": 22,
   "metadata": {},
   "outputs": [],
   "source": [
    "# Class count\n",
    "count_class_0, count_class_1, count_class_2, count_class_3, count_class_4 = training_file_names.label.value_counts() \n",
    "\n",
    "# Divide by class\n",
    "df_class_0 = training_file_names[training_file_names['label'] == 0]\n",
    "df_class_1 = training_file_names[training_file_names['label'] == 1]\n",
    "df_class_2 = training_file_names[training_file_names['label'] == 2]\n",
    "df_class_3 = training_file_names[training_file_names['label'] == 3]\n",
    "df_class_4 = training_file_names[training_file_names['label'] == 4]"
   ]
  },
  {
   "cell_type": "code",
   "execution_count": 23,
   "metadata": {},
   "outputs": [
    {
     "name": "stdout",
     "output_type": "stream",
     "text": [
      "Random over-sampling:\n",
      "4    2402\n",
      "3    2402\n",
      "2    2402\n",
      "1    2402\n",
      "0    2402\n",
      "Name: label, dtype: int64\n"
     ]
    },
    {
     "data": {
      "text/plain": [
       "<matplotlib.axes._subplots.AxesSubplot at 0x7fb923ce29e8>"
      ]
     },
     "execution_count": 23,
     "metadata": {},
     "output_type": "execute_result"
    },
    {
     "data": {
      "image/png": "[encoded data removed]",
      "text/plain": [
       "<Figure size 432x288 with 1 Axes>"
      ]
     },
     "metadata": {
      "needs_background": "light"
     },
     "output_type": "display_data"
    }
   ],
   "source": [
    "df_class_1_over = df_class_1.sample(count_class_0, replace=True)\n",
    "df_class_2_over = df_class_2.sample(count_class_0, replace=True)\n",
    "df_class_3_over = df_class_3.sample(count_class_0, replace=True)\n",
    "df_class_4_over = df_class_4.sample(count_class_0, replace=True)\n",
    "training_file_names_over = pd.concat([df_class_0, df_class_1_over, df_class_2_over, df_class_3_over, df_class_4_over], axis=0)\n",
    "\n",
    "print('Random over-sampling:')\n",
    "print(training_file_names_over.label.value_counts())\n",
    "training_file_names_over.label.value_counts().plot(kind='bar', title='Count (target)')"
   ]
  },
  {
   "cell_type": "code",
   "execution_count": 24,
   "metadata": {},
   "outputs": [
    {
     "data": {
      "text/html": [
       "<div>\n",
       "<style scoped>\n",
       "    .dataframe tbody tr th:only-of-type {\n",
       "        vertical-align: middle;\n",
       "    }\n",
       "\n",
       "    .dataframe tbody tr th {\n",
       "        vertical-align: top;\n",
       "    }\n",
       "\n",
       "    .dataframe thead th {\n",
       "        text-align: right;\n",
       "    }\n",
       "</style>\n",
       "<table border=\"1\" class=\"dataframe\">\n",
       "  <thead>\n",
       "    <tr style=\"text-align: right;\">\n",
       "      <th></th>\n",
       "      <th>filename</th>\n",
       "      <th>ind</th>\n",
       "      <th>label</th>\n",
       "    </tr>\n",
       "  </thead>\n",
       "  <tbody>\n",
       "    <tr>\n",
       "      <th>0</th>\n",
       "      <td>053_S_0621_S34521_T1_brain_mni305.nii</td>\n",
       "      <td>053_S_0621_34521</td>\n",
       "      <td>4</td>\n",
       "    </tr>\n",
       "    <tr>\n",
       "      <th>1</th>\n",
       "      <td>035_S_6551_S717903_T1_brain_mni305.nii</td>\n",
       "      <td>035_S_6551_717903</td>\n",
       "      <td>0</td>\n",
       "    </tr>\n",
       "    <tr>\n",
       "      <th>2</th>\n",
       "      <td>033_S_0739_S16956_T1_brain_mni305.nii</td>\n",
       "      <td>033_S_0739_16956</td>\n",
       "      <td>1</td>\n",
       "    </tr>\n",
       "    <tr>\n",
       "      <th>3</th>\n",
       "      <td>005_S_0602_S100029_T1_brain_mni305.nii</td>\n",
       "      <td>005_S_0602_100029</td>\n",
       "      <td>0</td>\n",
       "    </tr>\n",
       "    <tr>\n",
       "      <th>4</th>\n",
       "      <td>052_S_0951_S79814_T1_brain_mni305.nii</td>\n",
       "      <td>052_S_0951_79814</td>\n",
       "      <td>0</td>\n",
       "    </tr>\n",
       "    <tr>\n",
       "      <th>5</th>\n",
       "      <td>116_S_1249_S27350-T1_T1_brain_mni305.nii</td>\n",
       "      <td>116_S_1249_27350</td>\n",
       "      <td>0</td>\n",
       "    </tr>\n",
       "    <tr>\n",
       "      <th>6</th>\n",
       "      <td>023_S_0078_S24894_T1_brain_mni305.nii</td>\n",
       "      <td>023_S_0078_24894</td>\n",
       "      <td>4</td>\n",
       "    </tr>\n",
       "    <tr>\n",
       "      <th>7</th>\n",
       "      <td>010_S_4345_S214116-T1_T1_brain_mni305.nii</td>\n",
       "      <td>010_S_4345_214116</td>\n",
       "      <td>0</td>\n",
       "    </tr>\n",
       "    <tr>\n",
       "      <th>8</th>\n",
       "      <td>127_S_1427_S227972_T1_brain_mni305.nii</td>\n",
       "      <td>127_S_1427_227972</td>\n",
       "      <td>4</td>\n",
       "    </tr>\n",
       "    <tr>\n",
       "      <th>9</th>\n",
       "      <td>057_S_1007_S32046_T1_brain_mni305.nii</td>\n",
       "      <td>057_S_1007_32046</td>\n",
       "      <td>4</td>\n",
       "    </tr>\n",
       "  </tbody>\n",
       "</table>\n",
       "</div>"
      ],
      "text/plain": [
       "                                    filename                ind label\n",
       "0      053_S_0621_S34521_T1_brain_mni305.nii   053_S_0621_34521     4\n",
       "1     035_S_6551_S717903_T1_brain_mni305.nii  035_S_6551_717903     0\n",
       "2      033_S_0739_S16956_T1_brain_mni305.nii   033_S_0739_16956     1\n",
       "3     005_S_0602_S100029_T1_brain_mni305.nii  005_S_0602_100029     0\n",
       "4      052_S_0951_S79814_T1_brain_mni305.nii   052_S_0951_79814     0\n",
       "5   116_S_1249_S27350-T1_T1_brain_mni305.nii   116_S_1249_27350     0\n",
       "6      023_S_0078_S24894_T1_brain_mni305.nii   023_S_0078_24894     4\n",
       "7  010_S_4345_S214116-T1_T1_brain_mni305.nii  010_S_4345_214116     0\n",
       "8     127_S_1427_S227972_T1_brain_mni305.nii  127_S_1427_227972     4\n",
       "9      057_S_1007_S32046_T1_brain_mni305.nii   057_S_1007_32046     4"
      ]
     },
     "execution_count": 24,
     "metadata": {},
     "output_type": "execute_result"
    }
   ],
   "source": [
    "training_file_names_over = training_file_names_over.sample(frac=1).reset_index(drop=True)\n",
    "training_file_names_over[:10]"
   ]
  },
  {
   "cell_type": "code",
   "execution_count": 25,
   "metadata": {},
   "outputs": [],
   "source": [
    "training_file_names_over.to_csv('training_file_names_over.csv')\n",
    "testing_file_names.to_csv('testing_file_names.csv')\n",
    "validation_file_names.to_csv('validation_file_names.csv')"
   ]
  },
  {
   "cell_type": "code",
   "execution_count": 26,
   "metadata": {},
   "outputs": [],
   "source": [
    "def write_tfrecords(save_filename,file_names,min_,max_):\n",
    "    i=0\n",
    "    writer = tf.python_io.TFRecordWriter(save_filename)\n",
    "    for index, row in file_names.iterrows():\n",
    "        filename=row['filename']\n",
    "        label=int(row['label'])\n",
    "        name=str.encode(row['ind'])\n",
    "        try:\n",
    "            image_ = nib.load('data/'+filename)\n",
    "            im = image_.get_data()\n",
    "            #im=crop_image[127,50:206,50:206]#,:,:]\n",
    "            normalized_im=(im.ravel()-min_)/(max_+0.0001-min_)\n",
    "            feature = {'label': _int64_feature(label),\n",
    "                   'image': _float_feature(normalized_im),\n",
    "                     'name': _bytes_feature(name)}\n",
    "            # Create an example protocol buffer - Protocol buffers are a cross-platform, \n",
    "            #    cross-language library for efficient serialization of structured data.\n",
    "            example = tf.train.Example(features=tf.train.Features(feature=feature))\n",
    "            # Serialize to string and write on the file\n",
    "            writer.write(example.SerializeToString())\n",
    "            i+=1\n",
    "            if i%50==0:\n",
    "                print('i: ',i)\n",
    "        except:\n",
    "            continue\n",
    "\n",
    "    writer.close()\n"
   ]
  },
  {
   "cell_type": "code",
   "execution_count": 28,
   "metadata": {},
   "outputs": [
    {
     "data": {
      "text/plain": [
       "(12010, 3)"
      ]
     },
     "execution_count": 28,
     "metadata": {},
     "output_type": "execute_result"
    }
   ],
   "source": [
    "training_file_names_over.shape"
   ]
  },
  {
   "cell_type": "code",
   "execution_count": null,
   "metadata": {},
   "outputs": [
    {
     "name": "stdout",
     "output_type": "stream",
     "text": [
      "i:  50\n",
      "i:  100\n",
      "i:  200\n",
      "i:  250\n",
      "i:  300\n",
      "i:  350\n",
      "i:  400\n",
      "i:  450\n",
      "i:  500\n",
      "i:  550\n",
      "i:  600\n",
      "i:  650\n",
      "i:  700\n",
      "i:  750\n",
      "i:  800\n",
      "i:  850\n",
      "i:  900\n",
      "i:  950\n",
      "i:  1000\n",
      "i:  1050\n",
      "i:  1100\n",
      "i:  1150\n",
      "i:  1200\n",
      "i:  1250\n",
      "i:  1300\n",
      "i:  1350\n",
      "i:  1600\n",
      "i:  1650\n",
      "i:  1700\n",
      "i:  1750\n",
      "i:  1800\n",
      "i:  1850\n",
      "i:  1900\n",
      "i:  1950\n",
      "i:  2000\n",
      "i:  2050\n",
      "i:  2100\n",
      "i:  2150\n",
      "i:  2200\n",
      "i:  2250\n",
      "i:  2300\n",
      "i:  2500\n",
      "i:  2550\n",
      "i:  2600\n",
      "i:  2650\n",
      "i:  2700\n"
     ]
    }
   ],
   "source": [
    "write_tfrecords('training_flat_256_3d.tfrecords',training_file_names_over,min_flat_x,max_flat_x)\n",
    "write_tfrecords('testing_flat_256_3d.tfrecords',testing_file_names,min_flat_x,max_flat_x)\n",
    "write_tfrecords('validation_flat_256_3d.tfrecords',validation_file_names,min_flat_x,max_flat_x)"
   ]
  }
 ],
 "metadata": {
  "kernelspec": {
   "display_name": "Python 3",
   "language": "python",
   "name": "python3"
  },
  "language_info": {
   "codemirror_mode": {
    "name": "ipython",
    "version": 3
   },
   "file_extension": ".py",
   "mimetype": "text/x-python",
   "name": "python",
   "nbconvert_exporter": "python",
   "pygments_lexer": "ipython3",
   "version": "3.7.1"
  }
 },
 "nbformat": 4,
 "nbformat_minor": 4
}
