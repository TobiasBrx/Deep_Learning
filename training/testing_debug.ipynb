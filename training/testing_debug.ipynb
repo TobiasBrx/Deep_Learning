{
 "cells": [
  {
   "cell_type": "code",
   "execution_count": 1,
   "metadata": {},
   "outputs": [
    {
     "name": "stdout",
     "output_type": "stream",
     "text": [
      "Epoch  #1 |                   |   0% Cost: 5339322.5000, Avg. Acc: 0.4000, Current Acc: 0.50, elapsed: 16s, current: 1.4151"
     ]
    },
    {
     "ename": "ResourceExhaustedError",
     "evalue": "Failed to allocate memory for the batch of component 0 [Op:IteratorGetNextSync]",
     "output_type": "error",
     "traceback": [
      "\u001b[0;31m---------------------------------------------------------------------------\u001b[0m",
      "\u001b[0;31mResourceExhaustedError\u001b[0m                    Traceback (most recent call last)",
      "\u001b[0;32m<ipython-input-1-39609e2a17bd>\u001b[0m in \u001b[0;36m<module>\u001b[0;34m\u001b[0m\n\u001b[1;32m      7\u001b[0m \u001b[0mval_filenames\u001b[0m \u001b[0;34m=\u001b[0m \u001b[0;34m\"../data/validation_flat_156_3d.tfrecords\"\u001b[0m\u001b[0;34m\u001b[0m\u001b[0m\n\u001b[1;32m      8\u001b[0m \u001b[0;31m#Trainer(model='FF').run(train_filenames, val_filenames, x_slice=127)\u001b[0m\u001b[0;34m\u001b[0m\u001b[0;34m\u001b[0m\u001b[0m\n\u001b[0;32m----> 9\u001b[0;31m \u001b[0mTrainer\u001b[0m\u001b[0;34m(\u001b[0m\u001b[0mmodel\u001b[0m\u001b[0;34m=\u001b[0m\u001b[0;34m'CNN'\u001b[0m\u001b[0;34m)\u001b[0m\u001b[0;34m.\u001b[0m\u001b[0mrun\u001b[0m\u001b[0;34m(\u001b[0m\u001b[0mtrain_filenames\u001b[0m\u001b[0;34m,\u001b[0m \u001b[0mval_filenames\u001b[0m\u001b[0;34m,\u001b[0m \u001b[0mx_slice\u001b[0m\u001b[0;34m=\u001b[0m\u001b[0;36m127\u001b[0m\u001b[0;34m)\u001b[0m\u001b[0;34m\u001b[0m\u001b[0m\n\u001b[0m",
      "\u001b[0;32m~/Deep_Learning/training/train_tf2.py\u001b[0m in \u001b[0;36mrun\u001b[0;34m(self, train_filenames, val_filenames, x_slice, y_slice, z_slice, strategy)\u001b[0m\n\u001b[1;32m     57\u001b[0m                 \u001b[0;32mfor\u001b[0m \u001b[0mepoch\u001b[0m \u001b[0;32min\u001b[0m \u001b[0mrange\u001b[0m\u001b[0;34m(\u001b[0m\u001b[0mn_epochs\u001b[0m\u001b[0;34m)\u001b[0m\u001b[0;34m:\u001b[0m\u001b[0;34m\u001b[0m\u001b[0m\n\u001b[1;32m     58\u001b[0m                     \u001b[0mt_start\u001b[0m \u001b[0;34m=\u001b[0m \u001b[0mtime\u001b[0m\u001b[0;34m.\u001b[0m\u001b[0mtime\u001b[0m\u001b[0;34m(\u001b[0m\u001b[0;34m)\u001b[0m\u001b[0;34m\u001b[0m\u001b[0m\n\u001b[0;32m---> 59\u001b[0;31m                     \u001b[0mself\u001b[0m\u001b[0;34m.\u001b[0m\u001b[0mtrain\u001b[0m\u001b[0;34m(\u001b[0m\u001b[0mepoch\u001b[0m\u001b[0;34m,\u001b[0m \u001b[0mx_slice\u001b[0m\u001b[0;34m,\u001b[0m \u001b[0my_slice\u001b[0m\u001b[0;34m,\u001b[0m \u001b[0mz_slice\u001b[0m\u001b[0;34m,\u001b[0m \u001b[0mt_start\u001b[0m\u001b[0;34m)\u001b[0m\u001b[0;34m\u001b[0m\u001b[0m\n\u001b[0m\u001b[1;32m     60\u001b[0m                     \u001b[0mfinal_accuracy\u001b[0m \u001b[0;34m=\u001b[0m \u001b[0mself\u001b[0m\u001b[0;34m.\u001b[0m\u001b[0mvalidate\u001b[0m\u001b[0;34m(\u001b[0m\u001b[0mepoch\u001b[0m\u001b[0;34m,\u001b[0m \u001b[0mx_slice\u001b[0m\u001b[0;34m,\u001b[0m \u001b[0my_slice\u001b[0m\u001b[0;34m,\u001b[0m \u001b[0mz_slice\u001b[0m\u001b[0;34m)\u001b[0m\u001b[0;34m\u001b[0m\u001b[0m\n\u001b[1;32m     61\u001b[0m                     \u001b[0mprint\u001b[0m\u001b[0;34m(\u001b[0m\u001b[0;34m'\\nEpoch {0:>3}|  Validation Accuracy: {1:4.2f}'\u001b[0m\u001b[0;34m.\u001b[0m\u001b[0mformat\u001b[0m\u001b[0;34m(\u001b[0m\u001b[0mstr\u001b[0m\u001b[0;34m(\u001b[0m\u001b[0mepoch\u001b[0m \u001b[0;34m+\u001b[0m \u001b[0;36m1\u001b[0m\u001b[0;34m)\u001b[0m\u001b[0;34m,\u001b[0m \u001b[0mfinal_accuracy\u001b[0m\u001b[0;34m)\u001b[0m\u001b[0;34m)\u001b[0m\u001b[0;34m\u001b[0m\u001b[0m\n",
      "\u001b[0;32m~/Deep_Learning/training/train_tf2.py\u001b[0m in \u001b[0;36mtrain\u001b[0;34m(self, epoch, x_slice, y_slice, z_slice, t_start)\u001b[0m\n\u001b[1;32m     74\u001b[0m             \u001b[0mepoch_time\u001b[0m \u001b[0;34m=\u001b[0m \u001b[0mt_start\u001b[0m\u001b[0;34m\u001b[0m\u001b[0m\n\u001b[1;32m     75\u001b[0m             \u001b[0mself\u001b[0m\u001b[0;34m.\u001b[0m\u001b[0mfile_writer\u001b[0m\u001b[0;34m.\u001b[0m\u001b[0mset_as_default\u001b[0m\u001b[0;34m(\u001b[0m\u001b[0;34m)\u001b[0m\u001b[0;34m\u001b[0m\u001b[0m\n\u001b[0;32m---> 76\u001b[0;31m             \u001b[0;32mfor\u001b[0m \u001b[0mx_batch\u001b[0m\u001b[0;34m,\u001b[0m \u001b[0my_batch\u001b[0m\u001b[0;34m,\u001b[0m \u001b[0m_name\u001b[0m \u001b[0;32min\u001b[0m \u001b[0mself\u001b[0m\u001b[0;34m.\u001b[0m\u001b[0mdataset\u001b[0m\u001b[0;34m:\u001b[0m\u001b[0;34m\u001b[0m\u001b[0m\n\u001b[0m\u001b[1;32m     77\u001b[0m                 \u001b[0mt0\u001b[0m \u001b[0;34m=\u001b[0m \u001b[0mtime\u001b[0m\u001b[0;34m.\u001b[0m\u001b[0mtime\u001b[0m\u001b[0;34m(\u001b[0m\u001b[0;34m)\u001b[0m\u001b[0;34m\u001b[0m\u001b[0m\n\u001b[1;32m     78\u001b[0m                 \u001b[0mbatch\u001b[0m \u001b[0;34m+=\u001b[0m \u001b[0;36m1\u001b[0m\u001b[0;34m\u001b[0m\u001b[0m\n",
      "\u001b[0;32m/usr/local/lib/python3.5/dist-packages/tensorflow_core/python/data/ops/iterator_ops.py\u001b[0m in \u001b[0;36m__next__\u001b[0;34m(self)\u001b[0m\n\u001b[1;32m    620\u001b[0m \u001b[0;34m\u001b[0m\u001b[0m\n\u001b[1;32m    621\u001b[0m   \u001b[0;32mdef\u001b[0m \u001b[0m__next__\u001b[0m\u001b[0;34m(\u001b[0m\u001b[0mself\u001b[0m\u001b[0;34m)\u001b[0m\u001b[0;34m:\u001b[0m  \u001b[0;31m# For Python 3 compatibility\u001b[0m\u001b[0;34m\u001b[0m\u001b[0m\n\u001b[0;32m--> 622\u001b[0;31m     \u001b[0;32mreturn\u001b[0m \u001b[0mself\u001b[0m\u001b[0;34m.\u001b[0m\u001b[0mnext\u001b[0m\u001b[0;34m(\u001b[0m\u001b[0;34m)\u001b[0m\u001b[0;34m\u001b[0m\u001b[0m\n\u001b[0m\u001b[1;32m    623\u001b[0m \u001b[0;34m\u001b[0m\u001b[0m\n\u001b[1;32m    624\u001b[0m   \u001b[0;32mdef\u001b[0m \u001b[0m_next_internal\u001b[0m\u001b[0;34m(\u001b[0m\u001b[0mself\u001b[0m\u001b[0;34m)\u001b[0m\u001b[0;34m:\u001b[0m\u001b[0;34m\u001b[0m\u001b[0m\n",
      "\u001b[0;32m/usr/local/lib/python3.5/dist-packages/tensorflow_core/python/data/ops/iterator_ops.py\u001b[0m in \u001b[0;36mnext\u001b[0;34m(self)\u001b[0m\n\u001b[1;32m    664\u001b[0m     \u001b[0;34m\"\"\"Returns a nested structure of `Tensor`s containing the next element.\"\"\"\u001b[0m\u001b[0;34m\u001b[0m\u001b[0m\n\u001b[1;32m    665\u001b[0m     \u001b[0;32mtry\u001b[0m\u001b[0;34m:\u001b[0m\u001b[0;34m\u001b[0m\u001b[0m\n\u001b[0;32m--> 666\u001b[0;31m       \u001b[0;32mreturn\u001b[0m \u001b[0mself\u001b[0m\u001b[0;34m.\u001b[0m\u001b[0m_next_internal\u001b[0m\u001b[0;34m(\u001b[0m\u001b[0;34m)\u001b[0m\u001b[0;34m\u001b[0m\u001b[0m\n\u001b[0m\u001b[1;32m    667\u001b[0m     \u001b[0;32mexcept\u001b[0m \u001b[0merrors\u001b[0m\u001b[0;34m.\u001b[0m\u001b[0mOutOfRangeError\u001b[0m\u001b[0;34m:\u001b[0m\u001b[0;34m\u001b[0m\u001b[0m\n\u001b[1;32m    668\u001b[0m       \u001b[0;32mraise\u001b[0m \u001b[0mStopIteration\u001b[0m\u001b[0;34m\u001b[0m\u001b[0m\n",
      "\u001b[0;32m/usr/local/lib/python3.5/dist-packages/tensorflow_core/python/data/ops/iterator_ops.py\u001b[0m in \u001b[0;36m_next_internal\u001b[0;34m(self)\u001b[0m\n\u001b[1;32m    649\u001b[0m             \u001b[0mself\u001b[0m\u001b[0;34m.\u001b[0m\u001b[0m_iterator_resource\u001b[0m\u001b[0;34m,\u001b[0m\u001b[0;34m\u001b[0m\u001b[0m\n\u001b[1;32m    650\u001b[0m             \u001b[0moutput_types\u001b[0m\u001b[0;34m=\u001b[0m\u001b[0mself\u001b[0m\u001b[0;34m.\u001b[0m\u001b[0m_flat_output_types\u001b[0m\u001b[0;34m,\u001b[0m\u001b[0;34m\u001b[0m\u001b[0m\n\u001b[0;32m--> 651\u001b[0;31m             output_shapes=self._flat_output_shapes)\n\u001b[0m\u001b[1;32m    652\u001b[0m \u001b[0;34m\u001b[0m\u001b[0m\n\u001b[1;32m    653\u001b[0m       \u001b[0;32mtry\u001b[0m\u001b[0;34m:\u001b[0m\u001b[0;34m\u001b[0m\u001b[0m\n",
      "\u001b[0;32m/usr/local/lib/python3.5/dist-packages/tensorflow_core/python/ops/gen_dataset_ops.py\u001b[0m in \u001b[0;36miterator_get_next_sync\u001b[0;34m(iterator, output_types, output_shapes, name)\u001b[0m\n\u001b[1;32m   2671\u001b[0m       \u001b[0;32melse\u001b[0m\u001b[0;34m:\u001b[0m\u001b[0;34m\u001b[0m\u001b[0m\n\u001b[1;32m   2672\u001b[0m         \u001b[0mmessage\u001b[0m \u001b[0;34m=\u001b[0m \u001b[0me\u001b[0m\u001b[0;34m.\u001b[0m\u001b[0mmessage\u001b[0m\u001b[0;34m\u001b[0m\u001b[0m\n\u001b[0;32m-> 2673\u001b[0;31m       \u001b[0m_six\u001b[0m\u001b[0;34m.\u001b[0m\u001b[0mraise_from\u001b[0m\u001b[0;34m(\u001b[0m\u001b[0m_core\u001b[0m\u001b[0;34m.\u001b[0m\u001b[0m_status_to_exception\u001b[0m\u001b[0;34m(\u001b[0m\u001b[0me\u001b[0m\u001b[0;34m.\u001b[0m\u001b[0mcode\u001b[0m\u001b[0;34m,\u001b[0m \u001b[0mmessage\u001b[0m\u001b[0;34m)\u001b[0m\u001b[0;34m,\u001b[0m \u001b[0;32mNone\u001b[0m\u001b[0;34m)\u001b[0m\u001b[0;34m\u001b[0m\u001b[0m\n\u001b[0m\u001b[1;32m   2674\u001b[0m   \u001b[0;31m# Add nodes to the TensorFlow graph.\u001b[0m\u001b[0;34m\u001b[0m\u001b[0;34m\u001b[0m\u001b[0m\n\u001b[1;32m   2675\u001b[0m   \u001b[0;32mif\u001b[0m \u001b[0;32mnot\u001b[0m \u001b[0misinstance\u001b[0m\u001b[0;34m(\u001b[0m\u001b[0moutput_types\u001b[0m\u001b[0;34m,\u001b[0m \u001b[0;34m(\u001b[0m\u001b[0mlist\u001b[0m\u001b[0;34m,\u001b[0m \u001b[0mtuple\u001b[0m\u001b[0;34m)\u001b[0m\u001b[0;34m)\u001b[0m\u001b[0;34m:\u001b[0m\u001b[0;34m\u001b[0m\u001b[0m\n",
      "\u001b[0;32m/usr/local/lib/python3.5/dist-packages/six.py\u001b[0m in \u001b[0;36mraise_from\u001b[0;34m(value, from_value)\u001b[0m\n",
      "\u001b[0;31mResourceExhaustedError\u001b[0m: Failed to allocate memory for the batch of component 0 [Op:IteratorGetNextSync]"
     ]
    }
   ],
   "source": [
    "from train_tf2 import Trainer\n",
    "import matplotlib.pyplot as plt\n",
    "import numpy as np\n",
    "import tensorflow as tf\n",
    "\n",
    "train_filenames = \"../data/training_flat_156_3d.tfrecords\"\n",
    "val_filenames = \"../data/validation_flat_156_3d.tfrecords\"\n",
    "#Trainer(model='FF').run(train_filenames, val_filenames, x_slice=127)\n",
    "Trainer(model='CNN').run(train_filenames, val_filenames, x_slice=127)"
   ]
  },
  {
   "cell_type": "code",
   "execution_count": null,
   "metadata": {},
   "outputs": [
    {
     "name": "stdout",
     "output_type": "stream",
     "text": [
      "Epoch  #1 |################## |  93% Cost 1.6135, Avg. Accuracy 0.2047, Current Accuracy: 0.20"
     ]
    }
   ],
   "source": [
    "def slice_accuracy(dim=\"x\"):\n",
    "    accuracies = []\n",
    "    range_ = np.arange(50, 206, 15)\n",
    "    for slice_ in range_:\n",
    "        if dim == \"x\":\n",
    "            accuracies.append(Trainer(model='CNN').run(train_filenames, val_filenames, x_slice=slice_))\n",
    "        elif dim == \"y\":\n",
    "            accuracies.append(Trainer(model='CNN').run(train_filenames, val_filenames, y_slice=slice_))\n",
    "        elif dim == \"z\":\n",
    "            accuracies.append(Trainer(model='CNN').run(train_filenames, val_filenames, z_slice=slice_))\n",
    "    return accuracies\n",
    "    \n",
    "accuracies = slice_accuracy(dim=\"x\")    \n",
    "plt.plot(range_, accuracies)\n",
    "plt.title(\"Accuracies for 2d slices in x-dimension\")\n",
    "plt.xlabel(\"pixel\")\n",
    "plt.ylabel(\"accuracy\")\n",
    "plt.show()"
   ]
  },
  {
   "cell_type": "code",
   "execution_count": 3,
   "metadata": {},
   "outputs": [],
   "source": [
    "import tensorflow as tf\n",
    "name = \"../data/training_flat_256_3d.tfrecords\"\n",
    "def _parse_function(example_proto):\n",
    "    features = {\"image\": tf.io.FixedLenFeature([256, 256, 256], tf.float32),\n",
    "              \"label\": tf.io.FixedLenFeature((), tf.int64),\n",
    "               'name': tf.io.FixedLenFeature((), tf.string, default_value='')}\n",
    "    parsed_features = tf.io.parse_single_example(serialized=example_proto, features=features)\n",
    "    parsed_features[\"image\"]= tf.reshape(parsed_features[\"image\"],[-1]) \n",
    "    parsed_features[\"label\"]=tf.one_hot(parsed_features[\"label\"],5)\n",
    "    return parsed_features[\"image\"], parsed_features[\"label\"], parsed_features[\"name\"]\n",
    "\n",
    "    return parsed_features[\"image\"]\n",
    "batchsize = 1\n",
    "dataset = tf.data.TFRecordDataset(name).map(_parse_function)#.shuffle(\n",
    "                    #buffer_size=10).batch(batchsize)\n",
    "count=0\n",
    "#for image, label, name in dataset:\n",
    "#    count +=1\n",
    "    #im_ = tf.reshape(image, [batchsize, 256, 256, 256])\n",
    "    #label = tf.reshape(label, [batchsize, 5])\n",
    "    #name = tf.reshape(name, [batchsize, -1])\n",
    "    \n",
    "    #print(im_[1, :, :, :].shape)\n",
    "    #print(label)\n",
    "#    print(\"\\r\" + str(count), end=\"\")\n",
    "# Count the records\n",
    "#records_n = sum(1 for record in dataset)\n",
    "\n",
    "#print(\"records_n = {}\".format(records_n))"
   ]
  },
  {
   "cell_type": "code",
   "execution_count": 56,
   "metadata": {},
   "outputs": [],
   "source": [
    "class model():\n",
    "    \n",
    "    def cost(self, X, y):\n",
    "    #activations, logits = self.model(X, y, batch_size)\n",
    "        return tf.reduce_mean(input_tensor=tf.nn.softmax_cross_entropy_with_logits(logits=X, labels=y))\n",
    "\n",
    "    def forward(self, X):\n",
    "        self.w_fc = tf.Variable(tf.random.truncated_normal(shape=[100, 5], dtype=tf.float64, stddev=0.1), name='w_{0}'.format(\"hi\"))\n",
    "        self.b_fc = tf.Variable(tf.constant(0.0, shape=[5], dtype=tf.float64), name='b_{0}'.format(\"hi\"))\n",
    "        self.variables = [self.w_fc, self.b_fc]\n",
    "        return tf.nn.relu(tf.nn.bias_add(tf.matmul(X, self.w_fc), self.b_fc), name=\"hi\")\n",
    "    \n",
    "    def backward(self, X_train, y_train):\n",
    "        optimizer = tf.compat.v1.train.AdamOptimizer(0.00001)\n",
    "        with tf.GradientTape() as tape:\n",
    "            predicted = self.forward(X_train)\n",
    "            current_loss = self.cost(predicted, y_train)\n",
    "        grads = tape.gradient(current_loss, self.variables)\n",
    "        optimizer.apply_gradients(zip(grads, self.variables))\n",
    "\n"
   ]
  },
  {
   "cell_type": "code",
   "execution_count": 3,
   "metadata": {},
   "outputs": [
    {
     "ename": "NameError",
     "evalue": "name 'model' is not defined",
     "output_type": "error",
     "traceback": [
      "\u001b[0;31m---------------------------------------------------------------------------\u001b[0m",
      "\u001b[0;31mNameError\u001b[0m                                 Traceback (most recent call last)",
      "\u001b[0;32m<ipython-input-3-2dac6183b1a2>\u001b[0m in \u001b[0;36m<module>\u001b[0;34m\u001b[0m\n\u001b[1;32m      7\u001b[0m \u001b[0;31m#w_fc = tf.Variable(tf.random.truncated_normal(shape=[100, 5], dtype=tf.float64, stddev=0.1), name='w_{0}'.format(\"hi\"))\u001b[0m\u001b[0;34m\u001b[0m\u001b[0;34m\u001b[0m\u001b[0m\n\u001b[1;32m      8\u001b[0m \u001b[0;31m#tf.matmul(x, w_fc)\u001b[0m\u001b[0;34m\u001b[0m\u001b[0;34m\u001b[0m\u001b[0m\n\u001b[0;32m----> 9\u001b[0;31m \u001b[0mmodel_default\u001b[0m \u001b[0;34m=\u001b[0m \u001b[0mmodel\u001b[0m\u001b[0;34m(\u001b[0m\u001b[0;34m)\u001b[0m\u001b[0;34m\u001b[0m\u001b[0m\n\u001b[0m\u001b[1;32m     10\u001b[0m \u001b[0;34m\u001b[0m\u001b[0m\n\u001b[1;32m     11\u001b[0m \u001b[0mpreds\u001b[0m \u001b[0;34m=\u001b[0m \u001b[0mmodel_default\u001b[0m\u001b[0;34m.\u001b[0m\u001b[0mforward\u001b[0m\u001b[0;34m(\u001b[0m\u001b[0mx\u001b[0m\u001b[0;34m)\u001b[0m\u001b[0;34m\u001b[0m\u001b[0m\n",
      "\u001b[0;31mNameError\u001b[0m: name 'model' is not defined"
     ]
    }
   ],
   "source": [
    "import tensorflow as tf\n",
    "import numpy as np\n",
    "#optimizer = tf.compat.v1.train.AdamOptimizer(0.00001)\n",
    "x = np.random.rand(5, 100)\n",
    "y = (np.sum(x, axis=1)/10).astype(int)\n",
    "\n",
    "#w_fc = tf.Variable(tf.random.truncated_normal(shape=[100, 5], dtype=tf.float64, stddev=0.1), name='w_{0}'.format(\"hi\"))\n",
    "#tf.matmul(x, w_fc)\n",
    "model_default = model()\n",
    "\n",
    "preds = model_default.forward(x)\n",
    "\n",
    "#loss_total = loss_total + model_default.loss(preds, y)\n",
    "\n",
    "model_default.backward(x, y)"
   ]
  },
  {
   "cell_type": "code",
   "execution_count": 3,
   "metadata": {},
   "outputs": [
    {
     "ename": "AttributeError",
     "evalue": "'Trainer' object has no attribute 'train'",
     "output_type": "error",
     "traceback": [
      "\u001b[0;31m---------------------------------------------------------------------------\u001b[0m",
      "\u001b[0;31mAttributeError\u001b[0m                            Traceback (most recent call last)",
      "\u001b[0;32m<ipython-input-3-af649a8a28bf>\u001b[0m in \u001b[0;36m<module>\u001b[0;34m\u001b[0m\n\u001b[1;32m     58\u001b[0m             \u001b[0;32mreturn\u001b[0m \u001b[0mparsed_features\u001b[0m\u001b[0;34m[\u001b[0m\u001b[0;34m\"image\"\u001b[0m\u001b[0;34m]\u001b[0m\u001b[0;34m,\u001b[0m \u001b[0mparsed_features\u001b[0m\u001b[0;34m[\u001b[0m\u001b[0;34m\"label\"\u001b[0m\u001b[0;34m]\u001b[0m\u001b[0;34m,\u001b[0m \u001b[0mparsed_features\u001b[0m\u001b[0;34m[\u001b[0m\u001b[0;34m\"name\"\u001b[0m\u001b[0;34m]\u001b[0m\u001b[0;34m\u001b[0m\u001b[0m\n\u001b[1;32m     59\u001b[0m \u001b[0;34m\u001b[0m\u001b[0m\n\u001b[0;32m---> 60\u001b[0;31m \u001b[0mTrainer\u001b[0m\u001b[0;34m(\u001b[0m\u001b[0mmodel\u001b[0m\u001b[0;34m=\u001b[0m\u001b[0;34m'CNN'\u001b[0m\u001b[0;34m)\u001b[0m\u001b[0;34m.\u001b[0m\u001b[0mrun\u001b[0m\u001b[0;34m(\u001b[0m\u001b[0mtrain_filenames\u001b[0m\u001b[0;34m,\u001b[0m \u001b[0mval_filenames\u001b[0m\u001b[0;34m,\u001b[0m \u001b[0mx_slice\u001b[0m\u001b[0;34m=\u001b[0m\u001b[0;36m127\u001b[0m\u001b[0;34m)\u001b[0m\u001b[0;34m\u001b[0m\u001b[0m\n\u001b[0m",
      "\u001b[0;32m<ipython-input-3-af649a8a28bf>\u001b[0m in \u001b[0;36mrun\u001b[0;34m(self, train_filenames, val_filenames, x_slice, y_slice, z_slice, strategy)\u001b[0m\n\u001b[1;32m     44\u001b[0m                 \u001b[0;32mfor\u001b[0m \u001b[0mepoch\u001b[0m \u001b[0;32min\u001b[0m \u001b[0mrange\u001b[0m\u001b[0;34m(\u001b[0m\u001b[0mn_epochs\u001b[0m\u001b[0;34m)\u001b[0m\u001b[0;34m:\u001b[0m\u001b[0;34m\u001b[0m\u001b[0m\n\u001b[1;32m     45\u001b[0m                     \u001b[0mt_start\u001b[0m \u001b[0;34m=\u001b[0m \u001b[0mtime\u001b[0m\u001b[0;34m.\u001b[0m\u001b[0mtime\u001b[0m\u001b[0;34m(\u001b[0m\u001b[0;34m)\u001b[0m\u001b[0;34m\u001b[0m\u001b[0m\n\u001b[0;32m---> 46\u001b[0;31m                     \u001b[0mself\u001b[0m\u001b[0;34m.\u001b[0m\u001b[0mtrain\u001b[0m\u001b[0;34m(\u001b[0m\u001b[0mepoch\u001b[0m\u001b[0;34m,\u001b[0m \u001b[0mx_slice\u001b[0m\u001b[0;34m,\u001b[0m \u001b[0my_slice\u001b[0m\u001b[0;34m,\u001b[0m \u001b[0mz_slice\u001b[0m\u001b[0;34m,\u001b[0m \u001b[0mt_start\u001b[0m\u001b[0;34m)\u001b[0m\u001b[0;34m\u001b[0m\u001b[0m\n\u001b[0m\u001b[1;32m     47\u001b[0m                     \u001b[0mfinal_accuracy\u001b[0m \u001b[0;34m=\u001b[0m \u001b[0mself\u001b[0m\u001b[0;34m.\u001b[0m\u001b[0mvalidate\u001b[0m\u001b[0;34m(\u001b[0m\u001b[0mepoch\u001b[0m\u001b[0;34m,\u001b[0m \u001b[0mx_slice\u001b[0m\u001b[0;34m,\u001b[0m \u001b[0my_slice\u001b[0m\u001b[0;34m,\u001b[0m \u001b[0mz_slice\u001b[0m\u001b[0;34m)\u001b[0m\u001b[0;34m\u001b[0m\u001b[0m\n\u001b[1;32m     48\u001b[0m                     \u001b[0mself\u001b[0m\u001b[0;34m.\u001b[0m\u001b[0mcheckpoint\u001b[0m\u001b[0;34m.\u001b[0m\u001b[0msave\u001b[0m\u001b[0;34m(\u001b[0m\u001b[0mchkpt\u001b[0m\u001b[0;34m)\u001b[0m\u001b[0;34m\u001b[0m\u001b[0m\n",
      "\u001b[0;31mAttributeError\u001b[0m: 'Trainer' object has no attribute 'train'"
     ]
    }
   ],
   "source": [
    "import tensorflow as tf\n",
    "from model_tf2 import MRI, MRI_2dCNN\n",
    "from utils_tf2 import ModelSelectionError\n",
    "import time\n",
    "logdir = 'logs_x_FFNN/'\n",
    "chkpt = 'logs_x_FFNN/model.ckpt'\n",
    "n_epochs = 10 \n",
    "batch_size = 10\n",
    "label_size = 3\n",
    "\n",
    "class Trainer:    \n",
    "    mirrored_strategy = tf.distribute.MirroredStrategy()\n",
    "    with mirrored_strategy.scope() as strategy:\n",
    "        def __init__(self, model='FF', im_size=156):\n",
    "            try:\n",
    "                if model =='FF':\n",
    "                    self.model = MRI(train=True, im_size=im_size, label_size=label_size)\n",
    "                elif model=='CNN':\n",
    "                     self.model = MRI_2dCNN(train=True, im_size=im_size, label_size=label_size)\n",
    "                elif (model != 'FF') | (model != 'CNN'):\n",
    "                    raise ModelSelectionError()\n",
    "            except ModelSelectionError:\n",
    "                 print(\"Please select either FF for a Fully connected Feed-Forward network or CNN for a convolutional network.\")\n",
    "                    \n",
    "       #@tf.function            \n",
    "       #def cost(self, y_pred, y_true):\n",
    "       #    return tf.reduce_mean(input_tensor=tf.nn.softmax_cross_entropy_with_logits(logits=y_pred, labels=y_true))\n",
    "\n",
    "       #@tf.function \n",
    "       #def accuracy(self, y_pred, y_true):\n",
    "       #    equals = tf.equal(tf.argmax(input=y_pred, axis=1), tf.argmax(input=y_true, axis=1))\n",
    "       #    return tf.reduce_mean(input_tensor=tf.cast(equals, tf.float32))\n",
    "       #\n",
    "        def run(self, train_filenames, val_filenames, x_slice=None, y_slice=None, z_slice=None, strategy=strategy):\n",
    "                self.checkpoint = tf.train.Checkpoint(optimizer=self.model.optimizer) \n",
    "                self.file_writer = tf.summary.create_file_writer(logdir)\n",
    "                self.dataset = tf.data.TFRecordDataset(train_filenames).map(_parse_function).shuffle(\n",
    "                    buffer_size=20).batch(batch_size)#.repeat()\n",
    "                self.dist_dataset = strategy.experimental_distribute_dataset(self.dataset)\n",
    "                self.val_dataset = tf.data.TFRecordDataset(val_filenames).map(_parse_function).shuffle(\n",
    "                    buffer_size=20).batch(batch_size)#.repeat()\n",
    "                self.dist_val_dataset = strategy.experimental_distribute_dataset(self.val_dataset)\n",
    "\n",
    "                for epoch in range(n_epochs):\n",
    "                    t_start = time.time()\n",
    "                    self.train(epoch, x_slice, y_slice, z_slice, t_start)\n",
    "                    final_accuracy = self.validate(epoch, x_slice, y_slice, z_slice)\n",
    "                    self.checkpoint.save(chkpt)\n",
    "                \n",
    "                return final_accuracy\n",
    "def _parse_function(example_proto):\n",
    "            features = {\"image\": tf.io.FixedLenFeature([256, 256, 256], tf.float32),\n",
    "                      \"label\": tf.io.FixedLenFeature((), tf.int64),\n",
    "                       'name': tf.io.FixedLenFeature((), tf.string, default_value='')}\n",
    "            parsed_features = tf.io.parse_single_example(serialized=example_proto, features=features)\n",
    "            parsed_features[\"image\"] = tf.reshape(parsed_features[\"image\"], [-1]) \n",
    "            parsed_features[\"label\"] = tf.one_hot(parsed_features[\"label\"], label_size)\n",
    "            return parsed_features[\"image\"], parsed_features[\"label\"], parsed_features[\"name\"]\n",
    "\n",
    "Trainer(model='CNN').run(train_filenames, val_filenames, x_slice=127)"
   ]
  },
  {
   "cell_type": "code",
   "execution_count": 9,
   "metadata": {},
   "outputs": [
    {
     "name": "stdout",
     "output_type": "stream",
     "text": [
      "HEY\n"
     ]
    }
   ],
   "source": [
    "tensor = tf.constant([[[1,2,3],[5,6,7]],[[1,5,10],[10,20,30]]])\n",
    "np.array(tf.shape(tensor))\n",
    "im_size_squared = 16\n",
    "shape2 = tf.constant([3, 3, 32, 64])\n",
    "shape_flat = tf.constant(int(shape2[-1] * im_size_squared / 4))\n",
    "if tf.shape(tf.shape(tensor)) == 3 :\n",
    "    print(\"HEY\")\n",
    "a = tf.constant([int(tf.constant(389376, dtype=tf.int32)), 10])"
   ]
  },
  {
   "cell_type": "code",
   "execution_count": 6,
   "metadata": {},
   "outputs": [
    {
     "name": "stdout",
     "output_type": "stream",
     "text": [
      "False\n",
      "Tensor(\"truediv:0\", shape=(), dtype=float32)\n"
     ]
    },
    {
     "data": {
      "text/plain": [
       "<tf.Tensor: id=39, shape=(), dtype=float32, numpy=50.0>"
      ]
     },
     "execution_count": 6,
     "metadata": {},
     "output_type": "execute_result"
    }
   ],
   "source": [
    "import tensorflow as tf\n",
    "strategy = tf.distribute.MirroredStrategy()\n",
    "with strategy.scope() as strategy:\n",
    "    @tf.function\n",
    "    def test_():\n",
    "        print(tf.executing_eagerly())\n",
    "        avg_cost = tf.constant(10, dtype=tf.float32)\n",
    "        batch = 15.0\n",
    "        d = 5\n",
    "        f = d*avg_cost\n",
    "        avg_hi = (avg_cost / (batch))\n",
    "        print(avg_hi)\n",
    "        return f\n",
    "test_()"
   ]
  },
  {
   "cell_type": "code",
   "execution_count": 4,
   "metadata": {},
   "outputs": [
    {
     "name": "stdout",
     "output_type": "stream",
     "text": [
      "0.0\n",
      "Epoch  #2 |##                 |  12% Cost: 0.0000, Avg. Accuracy: 0.0000, Current Accuracy: 2.32, elapsed time: 0saaa\n",
      "|##                 |\n"
     ]
    }
   ],
   "source": [
    "import tensorflow as tf\n",
    "import time\n",
    "strategy = tf.distribute.MirroredStrategy()\n",
    "t_start = time.time()\n",
    "t0 = time.time()\n",
    "with strategy.scope() as strategy:\n",
    "    @tf.function\n",
    "    def test():\n",
    "        n_batches = 1290#tf.constant(1290, dtype=tf.float32)\n",
    "        batch = 150#tf.constant(15, dtype=tf.float32)\n",
    "        batch += 1\n",
    "        avg_cost = 0.0\n",
    "        avg_accuracy = 0.0\n",
    "        #batch = 10\n",
    "        #n_batches = 100\n",
    "        completion = batch / n_batches\n",
    "        #print(completion.dtype)\n",
    "        print_str = '|' + int(completion * 20) * '#' + (19 - int(completion * 20))  * ' ' + '|'\n",
    "        t1 = time.time()\n",
    "        batch_time = t1-t0\n",
    "        epoch_time = t1 - t_start\n",
    "        epoch = 1\n",
    "        #avg_cost = 0.2324\n",
    "        #batch = 10\n",
    "        #avg_accuracy = 4.323\n",
    "        batch_accuracy = 2.323\n",
    "        print((avg_cost / (batch)))\n",
    "        print(('\\rEpoch {0:>3} {1} {2:3.0f}% Cost: {3:6.4f}, Avg. Accuracy: {4:6.4f}, Current Accuracy: {5:.2f}, ' +\n",
    "                      'elapsed time: {6:.0f}s').format(\n",
    "                      '#' + str(epoch + 1), print_str, completion * 100, (avg_cost / (batch)),(avg_accuracy / (batch)), \n",
    "                      batch_accuracy, epoch_time), end='')\n",
    "        \n",
    "        print(('\\rEpoch {0:>3} {1} {2:3.0f}% Cost: {3:6.4f}, Avg. Accuracy: {4:6.4f}, Current Accuracy: {5:.2f}, ' +\n",
    "                      'elapsed time: {6:.0f}s').format(\n",
    "                      '#' + str(epoch + 1), print_str, completion * 100, avg_cost / (batch), avg_accuracy / (batch), \n",
    "                      batch_accuracy, epoch_time), end='')\n",
    "        a = 'a' * int(3.5)\n",
    "        print(a)\n",
    "        return print_str\n",
    "print(str(test().numpy(), 'utf-8'))"
   ]
  },
  {
   "cell_type": "code",
   "execution_count": 3,
   "metadata": {},
   "outputs": [
    {
     "name": "stdout",
     "output_type": "stream",
     "text": [
      "1\n"
     ]
    }
   ],
   "source": [
    "print(1)"
   ]
  },
  {
   "cell_type": "code",
   "execution_count": null,
   "metadata": {},
   "outputs": [],
   "source": [
    "print(3)"
   ]
  },
  {
   "cell_type": "code",
   "execution_count": 5,
   "metadata": {},
   "outputs": [
    {
     "name": "stdout",
     "output_type": "stream",
     "text": [
      "<class 'tensorflow.python.framework.ops.Tensor'>\n",
      "<class 'tensorflow.python.framework.ops.Tensor'>\n"
     ]
    },
    {
     "ename": "InvalidArgumentError",
     "evalue": "in converted code:\n\n    <ipython-input-5-b57910c532fb>:21 test  *\n        for x_batch, y_batch, _name in dataset:\n    /usr/local/lib/python3.5/dist-packages/tensorflow_core/python/autograph/operators/control_flow.py:651 reduce_body\n        new_vars = body(iterate, *loop_vars)\n    /usr/local/lib/python3.5/dist-packages/tensorflow_core/python/framework/ops.py:798 eval\n        return _eval_using_default_session(self, feed_dict, self.graph, session)\n    /usr/local/lib/python3.5/dist-packages/tensorflow_core/python/framework/ops.py:5410 _eval_using_default_session\n        return session.run(tensors, feed_dict)\n    /usr/local/lib/python3.5/dist-packages/tensorflow_core/python/client/session.py:956 run\n        run_metadata_ptr)\n    /usr/local/lib/python3.5/dist-packages/tensorflow_core/python/client/session.py:1180 _run\n        feed_dict_tensor, options, run_metadata)\n    /usr/local/lib/python3.5/dist-packages/tensorflow_core/python/client/session.py:1359 _do_run\n        run_metadata)\n    /usr/local/lib/python3.5/dist-packages/tensorflow_core/python/client/session.py:1384 _do_call\n        raise type(e)(node_def, op, message)\n\n    InvalidArgumentError: 2 root error(s) found.\n      (0) Invalid argument: You must feed a value for placeholder tensor 'args_0' with dtype int32\n    \t [[node args_0 (defined at /usr/local/lib/python3.5/dist-packages/tensorflow_core/python/framework/ops.py:1751) ]]\n    \t [[Cast/_5]]\n      (1) Invalid argument: You must feed a value for placeholder tensor 'args_0' with dtype int32\n    \t [[node args_0 (defined at /usr/local/lib/python3.5/dist-packages/tensorflow_core/python/framework/ops.py:1751) ]]\n    0 successful operations.\n    0 derived errors ignored.\n    \n    Original stack trace for 'args_0':\n      File \"/usr/lib/python3.5/runpy.py\", line 193, in _run_module_as_main\n        \"__main__\", mod_spec)\n      File \"/usr/lib/python3.5/runpy.py\", line 85, in _run_code\n        exec(code, run_globals)\n      File \"/usr/local/lib/python3.5/dist-packages/ipykernel_launcher.py\", line 16, in <module>\n        app.launch_new_instance()\n      File \"/usr/local/lib/python3.5/dist-packages/traitlets/config/application.py\", line 658, in launch_instance\n        app.start()\n      File \"/usr/local/lib/python3.5/dist-packages/ipykernel/kernelapp.py\", line 563, in start\n        self.io_loop.start()\n      File \"/usr/local/lib/python3.5/dist-packages/tornado/platform/asyncio.py\", line 132, in start\n        self.asyncio_loop.run_forever()\n      File \"/usr/lib/python3.5/asyncio/base_events.py\", line 421, in run_forever\n        self._run_once()\n      File \"/usr/lib/python3.5/asyncio/base_events.py\", line 1424, in _run_once\n        handle._run()\n      File \"/usr/lib/python3.5/asyncio/events.py\", line 126, in _run\n        self._callback(*self._args)\n      File \"/usr/local/lib/python3.5/dist-packages/tornado/ioloop.py\", line 758, in _run_callback\n        ret = callback()\n      File \"/usr/local/lib/python3.5/dist-packages/tornado/stack_context.py\", line 300, in null_wrapper\n        return fn(*args, **kwargs)\n      File \"/usr/local/lib/python3.5/dist-packages/tornado/gen.py\", line 1233, in inner\n        self.run()\n      File \"/usr/local/lib/python3.5/dist-packages/tornado/gen.py\", line 1147, in run\n        yielded = self.gen.send(value)\n      File \"/usr/local/lib/python3.5/dist-packages/ipykernel/kernelbase.py\", line 365, in process_one\n        yield gen.maybe_future(dispatch(*args))\n      File \"/usr/local/lib/python3.5/dist-packages/tornado/gen.py\", line 326, in wrapper\n        yielded = next(result)\n      File \"/usr/local/lib/python3.5/dist-packages/ipykernel/kernelbase.py\", line 272, in dispatch_shell\n        yield gen.maybe_future(handler(stream, idents, msg))\n      File \"/usr/local/lib/python3.5/dist-packages/tornado/gen.py\", line 326, in wrapper\n        yielded = next(result)\n      File \"/usr/local/lib/python3.5/dist-packages/ipykernel/kernelbase.py\", line 542, in execute_request\n        user_expressions, allow_stdin,\n      File \"/usr/local/lib/python3.5/dist-packages/tornado/gen.py\", line 326, in wrapper\n        yielded = next(result)\n      File \"/usr/local/lib/python3.5/dist-packages/ipykernel/ipkernel.py\", line 294, in do_execute\n        res = shell.run_cell(code, store_history=store_history, silent=silent)\n      File \"/usr/local/lib/python3.5/dist-packages/ipykernel/zmqshell.py\", line 536, in run_cell\n        return super(ZMQInteractiveShell, self).run_cell(*args, **kwargs)\n      File \"/usr/local/lib/python3.5/dist-packages/IPython/core/interactiveshell.py\", line 2855, in run_cell\n        raw_cell, store_history, silent, shell_futures)\n      File \"/usr/local/lib/python3.5/dist-packages/IPython/core/interactiveshell.py\", line 2881, in _run_cell\n        return runner(coro)\n      File \"/usr/local/lib/python3.5/dist-packages/IPython/core/async_helpers.py\", line 68, in _pseudo_sync_runner\n        coro.send(None)\n      File \"/usr/local/lib/python3.5/dist-packages/IPython/core/interactiveshell.py\", line 3058, in run_cell_async\n        interactivity=interactivity, compiler=compiler, result=result)\n      File \"/usr/local/lib/python3.5/dist-packages/IPython/core/interactiveshell.py\", line 3249, in run_ast_nodes\n        if (await self.run_code(code, result,  async_=asy)):\n      File \"/usr/local/lib/python3.5/dist-packages/IPython/core/interactiveshell.py\", line 3326, in run_code\n        exec(code_obj, self.user_global_ns, self.user_ns)\n      File \"<ipython-input-5-b57910c532fb>\", line 45, in <module>\n        print(str(test().numpy(), 'utf-8'))\n      File \"/usr/local/lib/python3.5/dist-packages/tensorflow_core/python/eager/def_function.py\", line 457, in __call__\n        result = self._call(*args, **kwds)\n      File \"/usr/local/lib/python3.5/dist-packages/tensorflow_core/python/eager/def_function.py\", line 503, in _call\n        self._initialize(args, kwds, add_initializers_to=initializer_map)\n      File \"/usr/local/lib/python3.5/dist-packages/tensorflow_core/python/eager/def_function.py\", line 408, in _initialize\n        *args, **kwds))\n      File \"/usr/local/lib/python3.5/dist-packages/tensorflow_core/python/eager/function.py\", line 1848, in _get_concrete_function_internal_garbage_collected\n        graph_function, _, _ = self._maybe_define_function(args, kwargs)\n      File \"/usr/local/lib/python3.5/dist-packages/tensorflow_core/python/eager/function.py\", line 2150, in _maybe_define_function\n        graph_function = self._create_graph_function(args, kwargs)\n      File \"/usr/local/lib/python3.5/dist-packages/tensorflow_core/python/eager/function.py\", line 2041, in _create_graph_function\n        capture_by_value=self._capture_by_value),\n      File \"/usr/local/lib/python3.5/dist-packages/tensorflow_core/python/framework/func_graph.py\", line 915, in func_graph_from_py_func\n        func_outputs = python_func(*func_args, **func_kwargs)\n      File \"/usr/local/lib/python3.5/dist-packages/tensorflow_core/python/eager/def_function.py\", line 358, in wrapped_fn\n        return weak_wrapped_fn().__wrapped__(*args, **kwds)\n      File \"/usr/local/lib/python3.5/dist-packages/tensorflow_core/python/framework/func_graph.py\", line 902, in wrapper\n        ), args, kwargs)\n      File \"<ipython-input-5-b57910c532fb>\", line 21, in test\n        for x_batch, y_batch, _name in dataset:\n      File \"/usr/local/lib/python3.5/dist-packages/tensorflow_core/python/autograph/operators/control_flow.py\", line 324, in for_stmt\n        composite_symbol_names)\n      File \"/usr/local/lib/python3.5/dist-packages/tensorflow_core/python/autograph/operators/control_flow.py\", line 567, in _tf_dataset_for_stmt\n        composite_symbol_names)\n      File \"/usr/local/lib/python3.5/dist-packages/tensorflow_core/python/autograph/operators/control_flow.py\", line 667, in _dataset_for_stmt_no_extra_test\n        final_vars, final_state = ds.reduce(aug_vars, reduce_body)\n      File \"/usr/local/lib/python3.5/dist-packages/tensorflow_core/python/data/ops/dataset_ops.py\", line 1467, in reduce\n        add_to_graph=False)\n      File \"/usr/local/lib/python3.5/dist-packages/tensorflow_core/python/data/ops/dataset_ops.py\", line 2695, in __init__\n        self._function = wrapper_fn._get_concrete_function_internal()\n      File \"/usr/local/lib/python3.5/dist-packages/tensorflow_core/python/eager/function.py\", line 1854, in _get_concrete_function_internal\n        *args, **kwargs)\n      File \"/usr/local/lib/python3.5/dist-packages/tensorflow_core/python/eager/function.py\", line 1848, in _get_concrete_function_internal_garbage_collected\n        graph_function, _, _ = self._maybe_define_function(args, kwargs)\n      File \"/usr/local/lib/python3.5/dist-packages/tensorflow_core/python/eager/function.py\", line 2150, in _maybe_define_function\n        graph_function = self._create_graph_function(args, kwargs)\n      File \"/usr/local/lib/python3.5/dist-packages/tensorflow_core/python/eager/function.py\", line 2041, in _create_graph_function\n        capture_by_value=self._capture_by_value),\n      File \"/usr/local/lib/python3.5/dist-packages/tensorflow_core/python/framework/func_graph.py\", line 837, in func_graph_from_py_func\n        args, arg_names, flat_shapes=arg_shapes)\n      File \"/usr/local/lib/python3.5/dist-packages/tensorflow_core/python/framework/func_graph.py\", line 1062, in _get_defun_inputs_from_args\n        args, names, structure=args, flat_shapes=flat_shapes)\n      File \"/usr/local/lib/python3.5/dist-packages/tensorflow_core/python/framework/func_graph.py\", line 1130, in _get_defun_inputs\n        name=requested_name)\n      File \"/usr/local/lib/python3.5/dist-packages/tensorflow_core/python/eager/graph_only_ops.py\", line 51, in graph_placeholder\n        attrs={\"dtype\": dtype_value, \"shape\": shape}, name=name)\n      File \"/usr/local/lib/python3.5/dist-packages/tensorflow_core/python/framework/func_graph.py\", line 548, in create_op\n        compute_device)\n      File \"/usr/local/lib/python3.5/dist-packages/tensorflow_core/python/framework/ops.py\", line 3429, in _create_op_internal\n        op_def=op_def)\n      File \"/usr/local/lib/python3.5/dist-packages/tensorflow_core/python/framework/ops.py\", line 1751, in __init__\n        self._traceback = tf_stack.extract_stack()\n    \n\n\nOriginal stack trace for 'args_0':\n  File \"/usr/lib/python3.5/runpy.py\", line 193, in _run_module_as_main\n    \"__main__\", mod_spec)\n  File \"/usr/lib/python3.5/runpy.py\", line 85, in _run_code\n    exec(code, run_globals)\n  File \"/usr/local/lib/python3.5/dist-packages/ipykernel_launcher.py\", line 16, in <module>\n    app.launch_new_instance()\n  File \"/usr/local/lib/python3.5/dist-packages/traitlets/config/application.py\", line 658, in launch_instance\n    app.start()\n  File \"/usr/local/lib/python3.5/dist-packages/ipykernel/kernelapp.py\", line 563, in start\n    self.io_loop.start()\n  File \"/usr/local/lib/python3.5/dist-packages/tornado/platform/asyncio.py\", line 132, in start\n    self.asyncio_loop.run_forever()\n  File \"/usr/lib/python3.5/asyncio/base_events.py\", line 421, in run_forever\n    self._run_once()\n  File \"/usr/lib/python3.5/asyncio/base_events.py\", line 1424, in _run_once\n    handle._run()\n  File \"/usr/lib/python3.5/asyncio/events.py\", line 126, in _run\n    self._callback(*self._args)\n  File \"/usr/local/lib/python3.5/dist-packages/tornado/ioloop.py\", line 758, in _run_callback\n    ret = callback()\n  File \"/usr/local/lib/python3.5/dist-packages/tornado/stack_context.py\", line 300, in null_wrapper\n    return fn(*args, **kwargs)\n  File \"/usr/local/lib/python3.5/dist-packages/tornado/gen.py\", line 1233, in inner\n    self.run()\n  File \"/usr/local/lib/python3.5/dist-packages/tornado/gen.py\", line 1147, in run\n    yielded = self.gen.send(value)\n  File \"/usr/local/lib/python3.5/dist-packages/ipykernel/kernelbase.py\", line 365, in process_one\n    yield gen.maybe_future(dispatch(*args))\n  File \"/usr/local/lib/python3.5/dist-packages/tornado/gen.py\", line 326, in wrapper\n    yielded = next(result)\n  File \"/usr/local/lib/python3.5/dist-packages/ipykernel/kernelbase.py\", line 272, in dispatch_shell\n    yield gen.maybe_future(handler(stream, idents, msg))\n  File \"/usr/local/lib/python3.5/dist-packages/tornado/gen.py\", line 326, in wrapper\n    yielded = next(result)\n  File \"/usr/local/lib/python3.5/dist-packages/ipykernel/kernelbase.py\", line 542, in execute_request\n    user_expressions, allow_stdin,\n  File \"/usr/local/lib/python3.5/dist-packages/tornado/gen.py\", line 326, in wrapper\n    yielded = next(result)\n  File \"/usr/local/lib/python3.5/dist-packages/ipykernel/ipkernel.py\", line 294, in do_execute\n    res = shell.run_cell(code, store_history=store_history, silent=silent)\n  File \"/usr/local/lib/python3.5/dist-packages/ipykernel/zmqshell.py\", line 536, in run_cell\n    return super(ZMQInteractiveShell, self).run_cell(*args, **kwargs)\n  File \"/usr/local/lib/python3.5/dist-packages/IPython/core/interactiveshell.py\", line 2855, in run_cell\n    raw_cell, store_history, silent, shell_futures)\n  File \"/usr/local/lib/python3.5/dist-packages/IPython/core/interactiveshell.py\", line 2881, in _run_cell\n    return runner(coro)\n  File \"/usr/local/lib/python3.5/dist-packages/IPython/core/async_helpers.py\", line 68, in _pseudo_sync_runner\n    coro.send(None)\n  File \"/usr/local/lib/python3.5/dist-packages/IPython/core/interactiveshell.py\", line 3058, in run_cell_async\n    interactivity=interactivity, compiler=compiler, result=result)\n  File \"/usr/local/lib/python3.5/dist-packages/IPython/core/interactiveshell.py\", line 3249, in run_ast_nodes\n    if (await self.run_code(code, result,  async_=asy)):\n  File \"/usr/local/lib/python3.5/dist-packages/IPython/core/interactiveshell.py\", line 3326, in run_code\n    exec(code_obj, self.user_global_ns, self.user_ns)\n  File \"<ipython-input-5-b57910c532fb>\", line 45, in <module>\n    print(str(test().numpy(), 'utf-8'))\n  File \"/usr/local/lib/python3.5/dist-packages/tensorflow_core/python/eager/def_function.py\", line 457, in __call__\n    result = self._call(*args, **kwds)\n  File \"/usr/local/lib/python3.5/dist-packages/tensorflow_core/python/eager/def_function.py\", line 503, in _call\n    self._initialize(args, kwds, add_initializers_to=initializer_map)\n  File \"/usr/local/lib/python3.5/dist-packages/tensorflow_core/python/eager/def_function.py\", line 408, in _initialize\n    *args, **kwds))\n  File \"/usr/local/lib/python3.5/dist-packages/tensorflow_core/python/eager/function.py\", line 1848, in _get_concrete_function_internal_garbage_collected\n    graph_function, _, _ = self._maybe_define_function(args, kwargs)\n  File \"/usr/local/lib/python3.5/dist-packages/tensorflow_core/python/eager/function.py\", line 2150, in _maybe_define_function\n    graph_function = self._create_graph_function(args, kwargs)\n  File \"/usr/local/lib/python3.5/dist-packages/tensorflow_core/python/eager/function.py\", line 2041, in _create_graph_function\n    capture_by_value=self._capture_by_value),\n  File \"/usr/local/lib/python3.5/dist-packages/tensorflow_core/python/framework/func_graph.py\", line 915, in func_graph_from_py_func\n    func_outputs = python_func(*func_args, **func_kwargs)\n  File \"/usr/local/lib/python3.5/dist-packages/tensorflow_core/python/eager/def_function.py\", line 358, in wrapped_fn\n    return weak_wrapped_fn().__wrapped__(*args, **kwds)\n  File \"/usr/local/lib/python3.5/dist-packages/tensorflow_core/python/framework/func_graph.py\", line 902, in wrapper\n    ), args, kwargs)\n  File \"<ipython-input-5-b57910c532fb>\", line 21, in test\n    for x_batch, y_batch, _name in dataset:\n  File \"/usr/local/lib/python3.5/dist-packages/tensorflow_core/python/autograph/operators/control_flow.py\", line 324, in for_stmt\n    composite_symbol_names)\n  File \"/usr/local/lib/python3.5/dist-packages/tensorflow_core/python/autograph/operators/control_flow.py\", line 567, in _tf_dataset_for_stmt\n    composite_symbol_names)\n  File \"/usr/local/lib/python3.5/dist-packages/tensorflow_core/python/autograph/operators/control_flow.py\", line 667, in _dataset_for_stmt_no_extra_test\n    final_vars, final_state = ds.reduce(aug_vars, reduce_body)\n  File \"/usr/local/lib/python3.5/dist-packages/tensorflow_core/python/data/ops/dataset_ops.py\", line 1467, in reduce\n    add_to_graph=False)\n  File \"/usr/local/lib/python3.5/dist-packages/tensorflow_core/python/data/ops/dataset_ops.py\", line 2695, in __init__\n    self._function = wrapper_fn._get_concrete_function_internal()\n  File \"/usr/local/lib/python3.5/dist-packages/tensorflow_core/python/eager/function.py\", line 1854, in _get_concrete_function_internal\n    *args, **kwargs)\n  File \"/usr/local/lib/python3.5/dist-packages/tensorflow_core/python/eager/function.py\", line 1848, in _get_concrete_function_internal_garbage_collected\n    graph_function, _, _ = self._maybe_define_function(args, kwargs)\n  File \"/usr/local/lib/python3.5/dist-packages/tensorflow_core/python/eager/function.py\", line 2150, in _maybe_define_function\n    graph_function = self._create_graph_function(args, kwargs)\n  File \"/usr/local/lib/python3.5/dist-packages/tensorflow_core/python/eager/function.py\", line 2041, in _create_graph_function\n    capture_by_value=self._capture_by_value),\n  File \"/usr/local/lib/python3.5/dist-packages/tensorflow_core/python/framework/func_graph.py\", line 837, in func_graph_from_py_func\n    args, arg_names, flat_shapes=arg_shapes)\n  File \"/usr/local/lib/python3.5/dist-packages/tensorflow_core/python/framework/func_graph.py\", line 1062, in _get_defun_inputs_from_args\n    args, names, structure=args, flat_shapes=flat_shapes)\n  File \"/usr/local/lib/python3.5/dist-packages/tensorflow_core/python/framework/func_graph.py\", line 1130, in _get_defun_inputs\n    name=requested_name)\n  File \"/usr/local/lib/python3.5/dist-packages/tensorflow_core/python/eager/graph_only_ops.py\", line 51, in graph_placeholder\n    attrs={\"dtype\": dtype_value, \"shape\": shape}, name=name)\n  File \"/usr/local/lib/python3.5/dist-packages/tensorflow_core/python/framework/func_graph.py\", line 548, in create_op\n    compute_device)\n  File \"/usr/local/lib/python3.5/dist-packages/tensorflow_core/python/framework/ops.py\", line 3429, in _create_op_internal\n    op_def=op_def)\n  File \"/usr/local/lib/python3.5/dist-packages/tensorflow_core/python/framework/ops.py\", line 1751, in __init__\n    self._traceback = tf_stack.extract_stack()\n",
     "output_type": "error",
     "traceback": [
      "\u001b[0;31m---------------------------------------------------------------------------\u001b[0m",
      "\u001b[0;31mInvalidArgumentError\u001b[0m                      Traceback (most recent call last)",
      "\u001b[0;32m<ipython-input-5-b57910c532fb>\u001b[0m in \u001b[0;36m<module>\u001b[0;34m\u001b[0m\n\u001b[1;32m     43\u001b[0m                 \u001b[0mprint_\u001b[0m\u001b[0;34m(\u001b[0m\u001b[0mcompletion\u001b[0m\u001b[0;34m,\u001b[0m \u001b[0mepoch\u001b[0m\u001b[0;34m,\u001b[0m \u001b[0mavg_cost\u001b[0m\u001b[0;34m,\u001b[0m \u001b[0mbatch\u001b[0m\u001b[0;34m,\u001b[0m \u001b[0mavg_accuracy\u001b[0m\u001b[0;34m,\u001b[0m \u001b[0mbatch_accuracy\u001b[0m\u001b[0;34m,\u001b[0m \u001b[0mepoch_time\u001b[0m\u001b[0;34m)\u001b[0m\u001b[0;34m\u001b[0m\u001b[0m\n\u001b[1;32m     44\u001b[0m \u001b[0;34m\u001b[0m\u001b[0m\n\u001b[0;32m---> 45\u001b[0;31m \u001b[0mprint\u001b[0m\u001b[0;34m(\u001b[0m\u001b[0mstr\u001b[0m\u001b[0;34m(\u001b[0m\u001b[0mtest\u001b[0m\u001b[0;34m(\u001b[0m\u001b[0;34m)\u001b[0m\u001b[0;34m.\u001b[0m\u001b[0mnumpy\u001b[0m\u001b[0;34m(\u001b[0m\u001b[0;34m)\u001b[0m\u001b[0;34m,\u001b[0m \u001b[0;34m'utf-8'\u001b[0m\u001b[0;34m)\u001b[0m\u001b[0;34m)\u001b[0m\u001b[0;34m\u001b[0m\u001b[0m\n\u001b[0m",
      "\u001b[0;32m/usr/local/lib/python3.5/dist-packages/tensorflow_core/python/eager/def_function.py\u001b[0m in \u001b[0;36m__call__\u001b[0;34m(self, *args, **kwds)\u001b[0m\n\u001b[1;32m    455\u001b[0m \u001b[0;34m\u001b[0m\u001b[0m\n\u001b[1;32m    456\u001b[0m     \u001b[0mtracing_count\u001b[0m \u001b[0;34m=\u001b[0m \u001b[0mself\u001b[0m\u001b[0;34m.\u001b[0m\u001b[0m_get_tracing_count\u001b[0m\u001b[0;34m(\u001b[0m\u001b[0;34m)\u001b[0m\u001b[0;34m\u001b[0m\u001b[0m\n\u001b[0;32m--> 457\u001b[0;31m     \u001b[0mresult\u001b[0m \u001b[0;34m=\u001b[0m \u001b[0mself\u001b[0m\u001b[0;34m.\u001b[0m\u001b[0m_call\u001b[0m\u001b[0;34m(\u001b[0m\u001b[0;34m*\u001b[0m\u001b[0margs\u001b[0m\u001b[0;34m,\u001b[0m \u001b[0;34m**\u001b[0m\u001b[0mkwds\u001b[0m\u001b[0;34m)\u001b[0m\u001b[0;34m\u001b[0m\u001b[0m\n\u001b[0m\u001b[1;32m    458\u001b[0m     \u001b[0;32mif\u001b[0m \u001b[0mtracing_count\u001b[0m \u001b[0;34m==\u001b[0m \u001b[0mself\u001b[0m\u001b[0;34m.\u001b[0m\u001b[0m_get_tracing_count\u001b[0m\u001b[0;34m(\u001b[0m\u001b[0;34m)\u001b[0m\u001b[0;34m:\u001b[0m\u001b[0;34m\u001b[0m\u001b[0m\n\u001b[1;32m    459\u001b[0m       \u001b[0mself\u001b[0m\u001b[0;34m.\u001b[0m\u001b[0m_call_counter\u001b[0m\u001b[0;34m.\u001b[0m\u001b[0mcalled_without_tracing\u001b[0m\u001b[0;34m(\u001b[0m\u001b[0;34m)\u001b[0m\u001b[0;34m\u001b[0m\u001b[0m\n",
      "\u001b[0;32m/usr/local/lib/python3.5/dist-packages/tensorflow_core/python/eager/def_function.py\u001b[0m in \u001b[0;36m_call\u001b[0;34m(self, *args, **kwds)\u001b[0m\n\u001b[1;32m    501\u001b[0m       \u001b[0;31m# This is the first call of __call__, so we have to initialize.\u001b[0m\u001b[0;34m\u001b[0m\u001b[0;34m\u001b[0m\u001b[0m\n\u001b[1;32m    502\u001b[0m       \u001b[0minitializer_map\u001b[0m \u001b[0;34m=\u001b[0m \u001b[0mobject_identity\u001b[0m\u001b[0;34m.\u001b[0m\u001b[0mObjectIdentityDictionary\u001b[0m\u001b[0;34m(\u001b[0m\u001b[0;34m)\u001b[0m\u001b[0;34m\u001b[0m\u001b[0m\n\u001b[0;32m--> 503\u001b[0;31m       \u001b[0mself\u001b[0m\u001b[0;34m.\u001b[0m\u001b[0m_initialize\u001b[0m\u001b[0;34m(\u001b[0m\u001b[0margs\u001b[0m\u001b[0;34m,\u001b[0m \u001b[0mkwds\u001b[0m\u001b[0;34m,\u001b[0m \u001b[0madd_initializers_to\u001b[0m\u001b[0;34m=\u001b[0m\u001b[0minitializer_map\u001b[0m\u001b[0;34m)\u001b[0m\u001b[0;34m\u001b[0m\u001b[0m\n\u001b[0m\u001b[1;32m    504\u001b[0m     \u001b[0;32mfinally\u001b[0m\u001b[0;34m:\u001b[0m\u001b[0;34m\u001b[0m\u001b[0m\n\u001b[1;32m    505\u001b[0m       \u001b[0;31m# At this point we know that the initialization is complete (or less\u001b[0m\u001b[0;34m\u001b[0m\u001b[0;34m\u001b[0m\u001b[0m\n",
      "\u001b[0;32m/usr/local/lib/python3.5/dist-packages/tensorflow_core/python/eager/def_function.py\u001b[0m in \u001b[0;36m_initialize\u001b[0;34m(self, args, kwds, add_initializers_to)\u001b[0m\n\u001b[1;32m    406\u001b[0m     self._concrete_stateful_fn = (\n\u001b[1;32m    407\u001b[0m         self._stateful_fn._get_concrete_function_internal_garbage_collected(  # pylint: disable=protected-access\n\u001b[0;32m--> 408\u001b[0;31m             *args, **kwds))\n\u001b[0m\u001b[1;32m    409\u001b[0m \u001b[0;34m\u001b[0m\u001b[0m\n\u001b[1;32m    410\u001b[0m     \u001b[0;32mdef\u001b[0m \u001b[0minvalid_creator_scope\u001b[0m\u001b[0;34m(\u001b[0m\u001b[0;34m*\u001b[0m\u001b[0munused_args\u001b[0m\u001b[0;34m,\u001b[0m \u001b[0;34m**\u001b[0m\u001b[0munused_kwds\u001b[0m\u001b[0;34m)\u001b[0m\u001b[0;34m:\u001b[0m\u001b[0;34m\u001b[0m\u001b[0m\n",
      "\u001b[0;32m/usr/local/lib/python3.5/dist-packages/tensorflow_core/python/eager/function.py\u001b[0m in \u001b[0;36m_get_concrete_function_internal_garbage_collected\u001b[0;34m(self, *args, **kwargs)\u001b[0m\n\u001b[1;32m   1846\u001b[0m     \u001b[0;32mif\u001b[0m \u001b[0mself\u001b[0m\u001b[0;34m.\u001b[0m\u001b[0minput_signature\u001b[0m\u001b[0;34m:\u001b[0m\u001b[0;34m\u001b[0m\u001b[0m\n\u001b[1;32m   1847\u001b[0m       \u001b[0margs\u001b[0m\u001b[0;34m,\u001b[0m \u001b[0mkwargs\u001b[0m \u001b[0;34m=\u001b[0m \u001b[0;32mNone\u001b[0m\u001b[0;34m,\u001b[0m \u001b[0;32mNone\u001b[0m\u001b[0;34m\u001b[0m\u001b[0m\n\u001b[0;32m-> 1848\u001b[0;31m     \u001b[0mgraph_function\u001b[0m\u001b[0;34m,\u001b[0m \u001b[0m_\u001b[0m\u001b[0;34m,\u001b[0m \u001b[0m_\u001b[0m \u001b[0;34m=\u001b[0m \u001b[0mself\u001b[0m\u001b[0;34m.\u001b[0m\u001b[0m_maybe_define_function\u001b[0m\u001b[0;34m(\u001b[0m\u001b[0margs\u001b[0m\u001b[0;34m,\u001b[0m \u001b[0mkwargs\u001b[0m\u001b[0;34m)\u001b[0m\u001b[0;34m\u001b[0m\u001b[0m\n\u001b[0m\u001b[1;32m   1849\u001b[0m     \u001b[0;32mreturn\u001b[0m \u001b[0mgraph_function\u001b[0m\u001b[0;34m\u001b[0m\u001b[0m\n\u001b[1;32m   1850\u001b[0m \u001b[0;34m\u001b[0m\u001b[0m\n",
      "\u001b[0;32m/usr/local/lib/python3.5/dist-packages/tensorflow_core/python/eager/function.py\u001b[0m in \u001b[0;36m_maybe_define_function\u001b[0;34m(self, args, kwargs)\u001b[0m\n\u001b[1;32m   2148\u001b[0m         \u001b[0mgraph_function\u001b[0m \u001b[0;34m=\u001b[0m \u001b[0mself\u001b[0m\u001b[0;34m.\u001b[0m\u001b[0m_function_cache\u001b[0m\u001b[0;34m.\u001b[0m\u001b[0mprimary\u001b[0m\u001b[0;34m.\u001b[0m\u001b[0mget\u001b[0m\u001b[0;34m(\u001b[0m\u001b[0mcache_key\u001b[0m\u001b[0;34m,\u001b[0m \u001b[0;32mNone\u001b[0m\u001b[0;34m)\u001b[0m\u001b[0;34m\u001b[0m\u001b[0m\n\u001b[1;32m   2149\u001b[0m         \u001b[0;32mif\u001b[0m \u001b[0mgraph_function\u001b[0m \u001b[0;32mis\u001b[0m \u001b[0;32mNone\u001b[0m\u001b[0;34m:\u001b[0m\u001b[0;34m\u001b[0m\u001b[0m\n\u001b[0;32m-> 2150\u001b[0;31m           \u001b[0mgraph_function\u001b[0m \u001b[0;34m=\u001b[0m \u001b[0mself\u001b[0m\u001b[0;34m.\u001b[0m\u001b[0m_create_graph_function\u001b[0m\u001b[0;34m(\u001b[0m\u001b[0margs\u001b[0m\u001b[0;34m,\u001b[0m \u001b[0mkwargs\u001b[0m\u001b[0;34m)\u001b[0m\u001b[0;34m\u001b[0m\u001b[0m\n\u001b[0m\u001b[1;32m   2151\u001b[0m           \u001b[0mself\u001b[0m\u001b[0;34m.\u001b[0m\u001b[0m_function_cache\u001b[0m\u001b[0;34m.\u001b[0m\u001b[0mprimary\u001b[0m\u001b[0;34m[\u001b[0m\u001b[0mcache_key\u001b[0m\u001b[0;34m]\u001b[0m \u001b[0;34m=\u001b[0m \u001b[0mgraph_function\u001b[0m\u001b[0;34m\u001b[0m\u001b[0m\n\u001b[1;32m   2152\u001b[0m         \u001b[0;32mreturn\u001b[0m \u001b[0mgraph_function\u001b[0m\u001b[0;34m,\u001b[0m \u001b[0margs\u001b[0m\u001b[0;34m,\u001b[0m \u001b[0mkwargs\u001b[0m\u001b[0;34m\u001b[0m\u001b[0m\n",
      "\u001b[0;32m/usr/local/lib/python3.5/dist-packages/tensorflow_core/python/eager/function.py\u001b[0m in \u001b[0;36m_create_graph_function\u001b[0;34m(self, args, kwargs, override_flat_arg_shapes)\u001b[0m\n\u001b[1;32m   2039\u001b[0m             \u001b[0marg_names\u001b[0m\u001b[0;34m=\u001b[0m\u001b[0marg_names\u001b[0m\u001b[0;34m,\u001b[0m\u001b[0;34m\u001b[0m\u001b[0m\n\u001b[1;32m   2040\u001b[0m             \u001b[0moverride_flat_arg_shapes\u001b[0m\u001b[0;34m=\u001b[0m\u001b[0moverride_flat_arg_shapes\u001b[0m\u001b[0;34m,\u001b[0m\u001b[0;34m\u001b[0m\u001b[0m\n\u001b[0;32m-> 2041\u001b[0;31m             capture_by_value=self._capture_by_value),\n\u001b[0m\u001b[1;32m   2042\u001b[0m         \u001b[0mself\u001b[0m\u001b[0;34m.\u001b[0m\u001b[0m_function_attributes\u001b[0m\u001b[0;34m,\u001b[0m\u001b[0;34m\u001b[0m\u001b[0m\n\u001b[1;32m   2043\u001b[0m         \u001b[0;31m# Tell the ConcreteFunction to clean up its graph once it goes out of\u001b[0m\u001b[0;34m\u001b[0m\u001b[0;34m\u001b[0m\u001b[0m\n",
      "\u001b[0;32m/usr/local/lib/python3.5/dist-packages/tensorflow_core/python/framework/func_graph.py\u001b[0m in \u001b[0;36mfunc_graph_from_py_func\u001b[0;34m(name, python_func, args, kwargs, signature, func_graph, autograph, autograph_options, add_control_dependencies, arg_names, op_return_value, collections, capture_by_value, override_flat_arg_shapes)\u001b[0m\n\u001b[1;32m    913\u001b[0m                                           converted_func)\n\u001b[1;32m    914\u001b[0m \u001b[0;34m\u001b[0m\u001b[0m\n\u001b[0;32m--> 915\u001b[0;31m       \u001b[0mfunc_outputs\u001b[0m \u001b[0;34m=\u001b[0m \u001b[0mpython_func\u001b[0m\u001b[0;34m(\u001b[0m\u001b[0;34m*\u001b[0m\u001b[0mfunc_args\u001b[0m\u001b[0;34m,\u001b[0m \u001b[0;34m**\u001b[0m\u001b[0mfunc_kwargs\u001b[0m\u001b[0;34m)\u001b[0m\u001b[0;34m\u001b[0m\u001b[0m\n\u001b[0m\u001b[1;32m    916\u001b[0m \u001b[0;34m\u001b[0m\u001b[0m\n\u001b[1;32m    917\u001b[0m       \u001b[0;31m# invariant: `func_outputs` contains only Tensors, CompositeTensors,\u001b[0m\u001b[0;34m\u001b[0m\u001b[0;34m\u001b[0m\u001b[0m\n",
      "\u001b[0;32m/usr/local/lib/python3.5/dist-packages/tensorflow_core/python/eager/def_function.py\u001b[0m in \u001b[0;36mwrapped_fn\u001b[0;34m(*args, **kwds)\u001b[0m\n\u001b[1;32m    356\u001b[0m         \u001b[0;31m# __wrapped__ allows AutoGraph to swap in a converted function. We give\u001b[0m\u001b[0;34m\u001b[0m\u001b[0;34m\u001b[0m\u001b[0m\n\u001b[1;32m    357\u001b[0m         \u001b[0;31m# the function a weak reference to itself to avoid a reference cycle.\u001b[0m\u001b[0;34m\u001b[0m\u001b[0;34m\u001b[0m\u001b[0m\n\u001b[0;32m--> 358\u001b[0;31m         \u001b[0;32mreturn\u001b[0m \u001b[0mweak_wrapped_fn\u001b[0m\u001b[0;34m(\u001b[0m\u001b[0;34m)\u001b[0m\u001b[0;34m.\u001b[0m\u001b[0m__wrapped__\u001b[0m\u001b[0;34m(\u001b[0m\u001b[0;34m*\u001b[0m\u001b[0margs\u001b[0m\u001b[0;34m,\u001b[0m \u001b[0;34m**\u001b[0m\u001b[0mkwds\u001b[0m\u001b[0;34m)\u001b[0m\u001b[0;34m\u001b[0m\u001b[0m\n\u001b[0m\u001b[1;32m    359\u001b[0m     \u001b[0mweak_wrapped_fn\u001b[0m \u001b[0;34m=\u001b[0m \u001b[0mweakref\u001b[0m\u001b[0;34m.\u001b[0m\u001b[0mref\u001b[0m\u001b[0;34m(\u001b[0m\u001b[0mwrapped_fn\u001b[0m\u001b[0;34m)\u001b[0m\u001b[0;34m\u001b[0m\u001b[0m\n\u001b[1;32m    360\u001b[0m \u001b[0;34m\u001b[0m\u001b[0m\n",
      "\u001b[0;32m/usr/local/lib/python3.5/dist-packages/tensorflow_core/python/framework/func_graph.py\u001b[0m in \u001b[0;36mwrapper\u001b[0;34m(*args, **kwargs)\u001b[0m\n\u001b[1;32m    903\u001b[0m           \u001b[0;32mexcept\u001b[0m \u001b[0mException\u001b[0m \u001b[0;32mas\u001b[0m \u001b[0me\u001b[0m\u001b[0;34m:\u001b[0m  \u001b[0;31m# pylint:disable=broad-except\u001b[0m\u001b[0;34m\u001b[0m\u001b[0m\n\u001b[1;32m    904\u001b[0m             \u001b[0;32mif\u001b[0m \u001b[0mhasattr\u001b[0m\u001b[0;34m(\u001b[0m\u001b[0me\u001b[0m\u001b[0;34m,\u001b[0m \u001b[0;34m\"ag_error_metadata\"\u001b[0m\u001b[0;34m)\u001b[0m\u001b[0;34m:\u001b[0m\u001b[0;34m\u001b[0m\u001b[0m\n\u001b[0;32m--> 905\u001b[0;31m               \u001b[0;32mraise\u001b[0m \u001b[0me\u001b[0m\u001b[0;34m.\u001b[0m\u001b[0mag_error_metadata\u001b[0m\u001b[0;34m.\u001b[0m\u001b[0mto_exception\u001b[0m\u001b[0;34m(\u001b[0m\u001b[0me\u001b[0m\u001b[0;34m)\u001b[0m\u001b[0;34m\u001b[0m\u001b[0m\n\u001b[0m\u001b[1;32m    906\u001b[0m             \u001b[0;32melse\u001b[0m\u001b[0;34m:\u001b[0m\u001b[0;34m\u001b[0m\u001b[0m\n\u001b[1;32m    907\u001b[0m               \u001b[0;32mraise\u001b[0m\u001b[0;34m\u001b[0m\u001b[0m\n",
      "\u001b[0;31mInvalidArgumentError\u001b[0m: in converted code:\n\n    <ipython-input-5-b57910c532fb>:21 test  *\n        for x_batch, y_batch, _name in dataset:\n    /usr/local/lib/python3.5/dist-packages/tensorflow_core/python/autograph/operators/control_flow.py:651 reduce_body\n        new_vars = body(iterate, *loop_vars)\n    /usr/local/lib/python3.5/dist-packages/tensorflow_core/python/framework/ops.py:798 eval\n        return _eval_using_default_session(self, feed_dict, self.graph, session)\n    /usr/local/lib/python3.5/dist-packages/tensorflow_core/python/framework/ops.py:5410 _eval_using_default_session\n        return session.run(tensors, feed_dict)\n    /usr/local/lib/python3.5/dist-packages/tensorflow_core/python/client/session.py:956 run\n        run_metadata_ptr)\n    /usr/local/lib/python3.5/dist-packages/tensorflow_core/python/client/session.py:1180 _run\n        feed_dict_tensor, options, run_metadata)\n    /usr/local/lib/python3.5/dist-packages/tensorflow_core/python/client/session.py:1359 _do_run\n        run_metadata)\n    /usr/local/lib/python3.5/dist-packages/tensorflow_core/python/client/session.py:1384 _do_call\n        raise type(e)(node_def, op, message)\n\n    InvalidArgumentError: 2 root error(s) found.\n      (0) Invalid argument: You must feed a value for placeholder tensor 'args_0' with dtype int32\n    \t [[node args_0 (defined at /usr/local/lib/python3.5/dist-packages/tensorflow_core/python/framework/ops.py:1751) ]]\n    \t [[Cast/_5]]\n      (1) Invalid argument: You must feed a value for placeholder tensor 'args_0' with dtype int32\n    \t [[node args_0 (defined at /usr/local/lib/python3.5/dist-packages/tensorflow_core/python/framework/ops.py:1751) ]]\n    0 successful operations.\n    0 derived errors ignored.\n    \n    Original stack trace for 'args_0':\n      File \"/usr/lib/python3.5/runpy.py\", line 193, in _run_module_as_main\n        \"__main__\", mod_spec)\n      File \"/usr/lib/python3.5/runpy.py\", line 85, in _run_code\n        exec(code, run_globals)\n      File \"/usr/local/lib/python3.5/dist-packages/ipykernel_launcher.py\", line 16, in <module>\n        app.launch_new_instance()\n      File \"/usr/local/lib/python3.5/dist-packages/traitlets/config/application.py\", line 658, in launch_instance\n        app.start()\n      File \"/usr/local/lib/python3.5/dist-packages/ipykernel/kernelapp.py\", line 563, in start\n        self.io_loop.start()\n      File \"/usr/local/lib/python3.5/dist-packages/tornado/platform/asyncio.py\", line 132, in start\n        self.asyncio_loop.run_forever()\n      File \"/usr/lib/python3.5/asyncio/base_events.py\", line 421, in run_forever\n        self._run_once()\n      File \"/usr/lib/python3.5/asyncio/base_events.py\", line 1424, in _run_once\n        handle._run()\n      File \"/usr/lib/python3.5/asyncio/events.py\", line 126, in _run\n        self._callback(*self._args)\n      File \"/usr/local/lib/python3.5/dist-packages/tornado/ioloop.py\", line 758, in _run_callback\n        ret = callback()\n      File \"/usr/local/lib/python3.5/dist-packages/tornado/stack_context.py\", line 300, in null_wrapper\n        return fn(*args, **kwargs)\n      File \"/usr/local/lib/python3.5/dist-packages/tornado/gen.py\", line 1233, in inner\n        self.run()\n      File \"/usr/local/lib/python3.5/dist-packages/tornado/gen.py\", line 1147, in run\n        yielded = self.gen.send(value)\n      File \"/usr/local/lib/python3.5/dist-packages/ipykernel/kernelbase.py\", line 365, in process_one\n        yield gen.maybe_future(dispatch(*args))\n      File \"/usr/local/lib/python3.5/dist-packages/tornado/gen.py\", line 326, in wrapper\n        yielded = next(result)\n      File \"/usr/local/lib/python3.5/dist-packages/ipykernel/kernelbase.py\", line 272, in dispatch_shell\n        yield gen.maybe_future(handler(stream, idents, msg))\n      File \"/usr/local/lib/python3.5/dist-packages/tornado/gen.py\", line 326, in wrapper\n        yielded = next(result)\n      File \"/usr/local/lib/python3.5/dist-packages/ipykernel/kernelbase.py\", line 542, in execute_request\n        user_expressions, allow_stdin,\n      File \"/usr/local/lib/python3.5/dist-packages/tornado/gen.py\", line 326, in wrapper\n        yielded = next(result)\n      File \"/usr/local/lib/python3.5/dist-packages/ipykernel/ipkernel.py\", line 294, in do_execute\n        res = shell.run_cell(code, store_history=store_history, silent=silent)\n      File \"/usr/local/lib/python3.5/dist-packages/ipykernel/zmqshell.py\", line 536, in run_cell\n        return super(ZMQInteractiveShell, self).run_cell(*args, **kwargs)\n      File \"/usr/local/lib/python3.5/dist-packages/IPython/core/interactiveshell.py\", line 2855, in run_cell\n        raw_cell, store_history, silent, shell_futures)\n      File \"/usr/local/lib/python3.5/dist-packages/IPython/core/interactiveshell.py\", line 2881, in _run_cell\n        return runner(coro)\n      File \"/usr/local/lib/python3.5/dist-packages/IPython/core/async_helpers.py\", line 68, in _pseudo_sync_runner\n        coro.send(None)\n      File \"/usr/local/lib/python3.5/dist-packages/IPython/core/interactiveshell.py\", line 3058, in run_cell_async\n        interactivity=interactivity, compiler=compiler, result=result)\n      File \"/usr/local/lib/python3.5/dist-packages/IPython/core/interactiveshell.py\", line 3249, in run_ast_nodes\n        if (await self.run_code(code, result,  async_=asy)):\n      File \"/usr/local/lib/python3.5/dist-packages/IPython/core/interactiveshell.py\", line 3326, in run_code\n        exec(code_obj, self.user_global_ns, self.user_ns)\n      File \"<ipython-input-5-b57910c532fb>\", line 45, in <module>\n        print(str(test().numpy(), 'utf-8'))\n      File \"/usr/local/lib/python3.5/dist-packages/tensorflow_core/python/eager/def_function.py\", line 457, in __call__\n        result = self._call(*args, **kwds)\n      File \"/usr/local/lib/python3.5/dist-packages/tensorflow_core/python/eager/def_function.py\", line 503, in _call\n        self._initialize(args, kwds, add_initializers_to=initializer_map)\n      File \"/usr/local/lib/python3.5/dist-packages/tensorflow_core/python/eager/def_function.py\", line 408, in _initialize\n        *args, **kwds))\n      File \"/usr/local/lib/python3.5/dist-packages/tensorflow_core/python/eager/function.py\", line 1848, in _get_concrete_function_internal_garbage_collected\n        graph_function, _, _ = self._maybe_define_function(args, kwargs)\n      File \"/usr/local/lib/python3.5/dist-packages/tensorflow_core/python/eager/function.py\", line 2150, in _maybe_define_function\n        graph_function = self._create_graph_function(args, kwargs)\n      File \"/usr/local/lib/python3.5/dist-packages/tensorflow_core/python/eager/function.py\", line 2041, in _create_graph_function\n        capture_by_value=self._capture_by_value),\n      File \"/usr/local/lib/python3.5/dist-packages/tensorflow_core/python/framework/func_graph.py\", line 915, in func_graph_from_py_func\n        func_outputs = python_func(*func_args, **func_kwargs)\n      File \"/usr/local/lib/python3.5/dist-packages/tensorflow_core/python/eager/def_function.py\", line 358, in wrapped_fn\n        return weak_wrapped_fn().__wrapped__(*args, **kwds)\n      File \"/usr/local/lib/python3.5/dist-packages/tensorflow_core/python/framework/func_graph.py\", line 902, in wrapper\n        ), args, kwargs)\n      File \"<ipython-input-5-b57910c532fb>\", line 21, in test\n        for x_batch, y_batch, _name in dataset:\n      File \"/usr/local/lib/python3.5/dist-packages/tensorflow_core/python/autograph/operators/control_flow.py\", line 324, in for_stmt\n        composite_symbol_names)\n      File \"/usr/local/lib/python3.5/dist-packages/tensorflow_core/python/autograph/operators/control_flow.py\", line 567, in _tf_dataset_for_stmt\n        composite_symbol_names)\n      File \"/usr/local/lib/python3.5/dist-packages/tensorflow_core/python/autograph/operators/control_flow.py\", line 667, in _dataset_for_stmt_no_extra_test\n        final_vars, final_state = ds.reduce(aug_vars, reduce_body)\n      File \"/usr/local/lib/python3.5/dist-packages/tensorflow_core/python/data/ops/dataset_ops.py\", line 1467, in reduce\n        add_to_graph=False)\n      File \"/usr/local/lib/python3.5/dist-packages/tensorflow_core/python/data/ops/dataset_ops.py\", line 2695, in __init__\n        self._function = wrapper_fn._get_concrete_function_internal()\n      File \"/usr/local/lib/python3.5/dist-packages/tensorflow_core/python/eager/function.py\", line 1854, in _get_concrete_function_internal\n        *args, **kwargs)\n      File \"/usr/local/lib/python3.5/dist-packages/tensorflow_core/python/eager/function.py\", line 1848, in _get_concrete_function_internal_garbage_collected\n        graph_function, _, _ = self._maybe_define_function(args, kwargs)\n      File \"/usr/local/lib/python3.5/dist-packages/tensorflow_core/python/eager/function.py\", line 2150, in _maybe_define_function\n        graph_function = self._create_graph_function(args, kwargs)\n      File \"/usr/local/lib/python3.5/dist-packages/tensorflow_core/python/eager/function.py\", line 2041, in _create_graph_function\n        capture_by_value=self._capture_by_value),\n      File \"/usr/local/lib/python3.5/dist-packages/tensorflow_core/python/framework/func_graph.py\", line 837, in func_graph_from_py_func\n        args, arg_names, flat_shapes=arg_shapes)\n      File \"/usr/local/lib/python3.5/dist-packages/tensorflow_core/python/framework/func_graph.py\", line 1062, in _get_defun_inputs_from_args\n        args, names, structure=args, flat_shapes=flat_shapes)\n      File \"/usr/local/lib/python3.5/dist-packages/tensorflow_core/python/framework/func_graph.py\", line 1130, in _get_defun_inputs\n        name=requested_name)\n      File \"/usr/local/lib/python3.5/dist-packages/tensorflow_core/python/eager/graph_only_ops.py\", line 51, in graph_placeholder\n        attrs={\"dtype\": dtype_value, \"shape\": shape}, name=name)\n      File \"/usr/local/lib/python3.5/dist-packages/tensorflow_core/python/framework/func_graph.py\", line 548, in create_op\n        compute_device)\n      File \"/usr/local/lib/python3.5/dist-packages/tensorflow_core/python/framework/ops.py\", line 3429, in _create_op_internal\n        op_def=op_def)\n      File \"/usr/local/lib/python3.5/dist-packages/tensorflow_core/python/framework/ops.py\", line 1751, in __init__\n        self._traceback = tf_stack.extract_stack()\n    \n\n\nOriginal stack trace for 'args_0':\n  File \"/usr/lib/python3.5/runpy.py\", line 193, in _run_module_as_main\n    \"__main__\", mod_spec)\n  File \"/usr/lib/python3.5/runpy.py\", line 85, in _run_code\n    exec(code, run_globals)\n  File \"/usr/local/lib/python3.5/dist-packages/ipykernel_launcher.py\", line 16, in <module>\n    app.launch_new_instance()\n  File \"/usr/local/lib/python3.5/dist-packages/traitlets/config/application.py\", line 658, in launch_instance\n    app.start()\n  File \"/usr/local/lib/python3.5/dist-packages/ipykernel/kernelapp.py\", line 563, in start\n    self.io_loop.start()\n  File \"/usr/local/lib/python3.5/dist-packages/tornado/platform/asyncio.py\", line 132, in start\n    self.asyncio_loop.run_forever()\n  File \"/usr/lib/python3.5/asyncio/base_events.py\", line 421, in run_forever\n    self._run_once()\n  File \"/usr/lib/python3.5/asyncio/base_events.py\", line 1424, in _run_once\n    handle._run()\n  File \"/usr/lib/python3.5/asyncio/events.py\", line 126, in _run\n    self._callback(*self._args)\n  File \"/usr/local/lib/python3.5/dist-packages/tornado/ioloop.py\", line 758, in _run_callback\n    ret = callback()\n  File \"/usr/local/lib/python3.5/dist-packages/tornado/stack_context.py\", line 300, in null_wrapper\n    return fn(*args, **kwargs)\n  File \"/usr/local/lib/python3.5/dist-packages/tornado/gen.py\", line 1233, in inner\n    self.run()\n  File \"/usr/local/lib/python3.5/dist-packages/tornado/gen.py\", line 1147, in run\n    yielded = self.gen.send(value)\n  File \"/usr/local/lib/python3.5/dist-packages/ipykernel/kernelbase.py\", line 365, in process_one\n    yield gen.maybe_future(dispatch(*args))\n  File \"/usr/local/lib/python3.5/dist-packages/tornado/gen.py\", line 326, in wrapper\n    yielded = next(result)\n  File \"/usr/local/lib/python3.5/dist-packages/ipykernel/kernelbase.py\", line 272, in dispatch_shell\n    yield gen.maybe_future(handler(stream, idents, msg))\n  File \"/usr/local/lib/python3.5/dist-packages/tornado/gen.py\", line 326, in wrapper\n    yielded = next(result)\n  File \"/usr/local/lib/python3.5/dist-packages/ipykernel/kernelbase.py\", line 542, in execute_request\n    user_expressions, allow_stdin,\n  File \"/usr/local/lib/python3.5/dist-packages/tornado/gen.py\", line 326, in wrapper\n    yielded = next(result)\n  File \"/usr/local/lib/python3.5/dist-packages/ipykernel/ipkernel.py\", line 294, in do_execute\n    res = shell.run_cell(code, store_history=store_history, silent=silent)\n  File \"/usr/local/lib/python3.5/dist-packages/ipykernel/zmqshell.py\", line 536, in run_cell\n    return super(ZMQInteractiveShell, self).run_cell(*args, **kwargs)\n  File \"/usr/local/lib/python3.5/dist-packages/IPython/core/interactiveshell.py\", line 2855, in run_cell\n    raw_cell, store_history, silent, shell_futures)\n  File \"/usr/local/lib/python3.5/dist-packages/IPython/core/interactiveshell.py\", line 2881, in _run_cell\n    return runner(coro)\n  File \"/usr/local/lib/python3.5/dist-packages/IPython/core/async_helpers.py\", line 68, in _pseudo_sync_runner\n    coro.send(None)\n  File \"/usr/local/lib/python3.5/dist-packages/IPython/core/interactiveshell.py\", line 3058, in run_cell_async\n    interactivity=interactivity, compiler=compiler, result=result)\n  File \"/usr/local/lib/python3.5/dist-packages/IPython/core/interactiveshell.py\", line 3249, in run_ast_nodes\n    if (await self.run_code(code, result,  async_=asy)):\n  File \"/usr/local/lib/python3.5/dist-packages/IPython/core/interactiveshell.py\", line 3326, in run_code\n    exec(code_obj, self.user_global_ns, self.user_ns)\n  File \"<ipython-input-5-b57910c532fb>\", line 45, in <module>\n    print(str(test().numpy(), 'utf-8'))\n  File \"/usr/local/lib/python3.5/dist-packages/tensorflow_core/python/eager/def_function.py\", line 457, in __call__\n    result = self._call(*args, **kwds)\n  File \"/usr/local/lib/python3.5/dist-packages/tensorflow_core/python/eager/def_function.py\", line 503, in _call\n    self._initialize(args, kwds, add_initializers_to=initializer_map)\n  File \"/usr/local/lib/python3.5/dist-packages/tensorflow_core/python/eager/def_function.py\", line 408, in _initialize\n    *args, **kwds))\n  File \"/usr/local/lib/python3.5/dist-packages/tensorflow_core/python/eager/function.py\", line 1848, in _get_concrete_function_internal_garbage_collected\n    graph_function, _, _ = self._maybe_define_function(args, kwargs)\n  File \"/usr/local/lib/python3.5/dist-packages/tensorflow_core/python/eager/function.py\", line 2150, in _maybe_define_function\n    graph_function = self._create_graph_function(args, kwargs)\n  File \"/usr/local/lib/python3.5/dist-packages/tensorflow_core/python/eager/function.py\", line 2041, in _create_graph_function\n    capture_by_value=self._capture_by_value),\n  File \"/usr/local/lib/python3.5/dist-packages/tensorflow_core/python/framework/func_graph.py\", line 915, in func_graph_from_py_func\n    func_outputs = python_func(*func_args, **func_kwargs)\n  File \"/usr/local/lib/python3.5/dist-packages/tensorflow_core/python/eager/def_function.py\", line 358, in wrapped_fn\n    return weak_wrapped_fn().__wrapped__(*args, **kwds)\n  File \"/usr/local/lib/python3.5/dist-packages/tensorflow_core/python/framework/func_graph.py\", line 902, in wrapper\n    ), args, kwargs)\n  File \"<ipython-input-5-b57910c532fb>\", line 21, in test\n    for x_batch, y_batch, _name in dataset:\n  File \"/usr/local/lib/python3.5/dist-packages/tensorflow_core/python/autograph/operators/control_flow.py\", line 324, in for_stmt\n    composite_symbol_names)\n  File \"/usr/local/lib/python3.5/dist-packages/tensorflow_core/python/autograph/operators/control_flow.py\", line 567, in _tf_dataset_for_stmt\n    composite_symbol_names)\n  File \"/usr/local/lib/python3.5/dist-packages/tensorflow_core/python/autograph/operators/control_flow.py\", line 667, in _dataset_for_stmt_no_extra_test\n    final_vars, final_state = ds.reduce(aug_vars, reduce_body)\n  File \"/usr/local/lib/python3.5/dist-packages/tensorflow_core/python/data/ops/dataset_ops.py\", line 1467, in reduce\n    add_to_graph=False)\n  File \"/usr/local/lib/python3.5/dist-packages/tensorflow_core/python/data/ops/dataset_ops.py\", line 2695, in __init__\n    self._function = wrapper_fn._get_concrete_function_internal()\n  File \"/usr/local/lib/python3.5/dist-packages/tensorflow_core/python/eager/function.py\", line 1854, in _get_concrete_function_internal\n    *args, **kwargs)\n  File \"/usr/local/lib/python3.5/dist-packages/tensorflow_core/python/eager/function.py\", line 1848, in _get_concrete_function_internal_garbage_collected\n    graph_function, _, _ = self._maybe_define_function(args, kwargs)\n  File \"/usr/local/lib/python3.5/dist-packages/tensorflow_core/python/eager/function.py\", line 2150, in _maybe_define_function\n    graph_function = self._create_graph_function(args, kwargs)\n  File \"/usr/local/lib/python3.5/dist-packages/tensorflow_core/python/eager/function.py\", line 2041, in _create_graph_function\n    capture_by_value=self._capture_by_value),\n  File \"/usr/local/lib/python3.5/dist-packages/tensorflow_core/python/framework/func_graph.py\", line 837, in func_graph_from_py_func\n    args, arg_names, flat_shapes=arg_shapes)\n  File \"/usr/local/lib/python3.5/dist-packages/tensorflow_core/python/framework/func_graph.py\", line 1062, in _get_defun_inputs_from_args\n    args, names, structure=args, flat_shapes=flat_shapes)\n  File \"/usr/local/lib/python3.5/dist-packages/tensorflow_core/python/framework/func_graph.py\", line 1130, in _get_defun_inputs\n    name=requested_name)\n  File \"/usr/local/lib/python3.5/dist-packages/tensorflow_core/python/eager/graph_only_ops.py\", line 51, in graph_placeholder\n    attrs={\"dtype\": dtype_value, \"shape\": shape}, name=name)\n  File \"/usr/local/lib/python3.5/dist-packages/tensorflow_core/python/framework/func_graph.py\", line 548, in create_op\n    compute_device)\n  File \"/usr/local/lib/python3.5/dist-packages/tensorflow_core/python/framework/ops.py\", line 3429, in _create_op_internal\n    op_def=op_def)\n  File \"/usr/local/lib/python3.5/dist-packages/tensorflow_core/python/framework/ops.py\", line 1751, in __init__\n    self._traceback = tf_stack.extract_stack()\n"
     ]
    }
   ],
   "source": [
    "import tensorflow as tf\n",
    "import time\n",
    "t_start = time.time()\n",
    "def print_(completion, epoch, avg_cost, batch, avg_accuracy, batch_accuracy, epoch_time):\n",
    "    print(float(completion))\n",
    "    print_str = '|' + int(completion * 20) * '#' + (19 - int(completion * 20))  * ' ' + '|'\n",
    "    print(('\\rEpoch {0:>3} {1} {2:3.0f}% Cost: {3:6.4f}, Avg. Accuracy: {4:6.4f}, Current Accuracy: {5:.2f}, ' +\n",
    "                      'elapsed time: {6:.0f}s').format(\n",
    "                      '#' + str(epoch + 1), print_str, completion * 100, avg_cost / (batch), avg_accuracy / (batch), \n",
    "                      batch_accuracy, epoch_time), end='')\n",
    "strategy = tf.distribute.MirroredStrategy()\n",
    "with strategy.scope() as strategy:\n",
    "    @tf.function\n",
    "    def test():\n",
    "            epoch = 3\n",
    "            n_batches = 1290\n",
    "            batch = 0\n",
    "            avg_cost = 0.0\n",
    "            avg_accuracy = 0.0\n",
    "            times = []\n",
    "            for x_batch, y_batch, _name in dataset:\n",
    "                t0 = time.time()\n",
    "                for i in range(5):\n",
    "                    batch += 1\n",
    "                x_batch = tf.cast(x_batch, dtype=tf.float32)\n",
    "                y_batch = tf.cast(y_batch, dtype=tf.float32)\n",
    "                \n",
    "                batch_accuracy = tf.constant(0.45, dtype=tf.float32)\n",
    "                current_loss = tf.constant(143, dtype=tf.float32)\n",
    "                avg_cost += current_loss\n",
    "                avg_accuracy += batch_accuracy\n",
    "                #self.file_writer.add_summary(summ, epoch * n_batches + batch)\n",
    "                completion = batch / n_batches\n",
    "                print(type(batch))\n",
    "                print(type(completion))\n",
    "                \n",
    "                completion = tf.cast(completion, dtype=tf.float32)\n",
    "                completion = completion.eval(session=tf.compat.v1.Session()) \n",
    "                print(type(completion), completion.dtype)\n",
    "                t1 = time.time()\n",
    "                batch_time = t1-t0\n",
    "                epoch_time = t1 - t_start\n",
    "                print_(completion, epoch, avg_cost, batch, avg_accuracy, batch_accuracy, epoch_time)\n",
    "\n",
    "print(str(test().numpy(), 'utf-8'))"
   ]
  },
  {
   "cell_type": "code",
   "execution_count": 2,
   "metadata": {},
   "outputs": [
    {
     "data": {
      "text/plain": [
       "tf.int32"
      ]
     },
     "execution_count": 2,
     "metadata": {},
     "output_type": "execute_result"
    }
   ],
   "source": [
    "a = tf.constant(4)\n",
    "a.dtype"
   ]
  },
  {
   "cell_type": "code",
   "execution_count": 1,
   "metadata": {},
   "outputs": [
    {
     "data": {
      "text/plain": [
       "3"
      ]
     },
     "execution_count": 1,
     "metadata": {},
     "output_type": "execute_result"
    }
   ],
   "source": [
    "3"
   ]
  },
  {
   "cell_type": "code",
   "execution_count": null,
   "metadata": {},
   "outputs": [],
   "source": []
  }
 ],
 "metadata": {
  "kernelspec": {
   "display_name": "Python 3",
   "language": "python",
   "name": "python3"
  },
  "language_info": {
   "codemirror_mode": {
    "name": "ipython",
    "version": 3
   },
   "file_extension": ".py",
   "mimetype": "text/x-python",
   "name": "python",
   "nbconvert_exporter": "python",
   "pygments_lexer": "ipython3",
   "version": "3.5.3"
  }
 },
 "nbformat": 4,
 "nbformat_minor": 4
}
