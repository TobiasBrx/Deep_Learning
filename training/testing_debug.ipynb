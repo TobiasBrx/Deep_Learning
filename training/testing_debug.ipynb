{
 "cells": [
  {
   "cell_type": "code",
   "execution_count": null,
   "metadata": {},
   "outputs": [
    {
     "name": "stdout",
     "output_type": "stream",
     "text": [
      "Epoch  #1 |                   |   1% Cost: 3.3962, Avg. Accuracy: 0.3000, Current Accuracy: 0.40, elapsed time: 88s"
     ]
    }
   ],
   "source": [
    "from train_tf2 import Trainer\n",
    "import matplotlib.pyplot as plt\n",
    "import numpy as np\n",
    "\n",
    "train_filenames = \"../data/training_flat_256_3d.tfrecords\"\n",
    "val_filenames = \"../data/validation_flat_256_3d.tfrecords\"\n",
    "#Trainer(model='FF').run(train_filenames, val_filenames, x_slice=127)\n",
    "Trainer(model='CNN').run(train_filenames, val_filenames, x_slice=127)"
   ]
  },
  {
   "cell_type": "code",
   "execution_count": null,
   "metadata": {},
   "outputs": [
    {
     "name": "stdout",
     "output_type": "stream",
     "text": [
      "Epoch  #1 |################## |  93% Cost 1.6135, Avg. Accuracy 0.2047, Current Accuracy: 0.20"
     ]
    }
   ],
   "source": [
    "def slice_accuracy(dim=\"x\"):\n",
    "    accuracies = []\n",
    "    range_ = np.arange(50, 206, 15)\n",
    "    for slice_ in range_:\n",
    "        if dim == \"x\":\n",
    "            accuracies.append(Trainer().run(train_filenames, val_filenames, x_slice=slice_))\n",
    "        elif dim == \"y\":\n",
    "            accuracies.append(Trainer().run(train_filenames, val_filenames, y_slice=slice_))\n",
    "        elif dim == \"z\":\n",
    "            accuracies.append(Trainer().run(train_filenames, val_filenames, z_slice=slice_))\n",
    "    return accuracies\n",
    "    \n",
    "accuracies = slice_accuracy(dim=\"x\")    \n",
    "plt.plot(range_, accuracies)\n",
    "plt.title(\"Accuracies for 2d slices in x-dimension\")\n",
    "plt.xlabel(\"pixel\")\n",
    "plt.ylabel(\"accuracy\")\n",
    "plt.show()"
   ]
  },
  {
   "cell_type": "code",
   "execution_count": 1,
   "metadata": {},
   "outputs": [
    {
     "name": "stdout",
     "output_type": "stream",
     "text": [
      "12975"
     ]
    }
   ],
   "source": [
    "import tensorflow as tf\n",
    "name = \"../data/training_flat_256_3d.tfrecords\"\n",
    "def _parse_function(example_proto):\n",
    "    features = {\"image\": tf.io.FixedLenFeature([256, 256, 256], tf.float32),\n",
    "              \"label\": tf.io.FixedLenFeature((), tf.int64),\n",
    "               'name': tf.io.FixedLenFeature((), tf.string, default_value='')}\n",
    "    parsed_features = tf.io.parse_single_example(serialized=example_proto, features=features)\n",
    "    parsed_features[\"image\"]= tf.reshape(parsed_features[\"image\"],[-1]) \n",
    "    parsed_features[\"label\"]=tf.one_hot(parsed_features[\"label\"],5)\n",
    "    return parsed_features[\"image\"], parsed_features[\"label\"], parsed_features[\"name\"]\n",
    "\n",
    "    return parsed_features[\"image\"]\n",
    "batchsize = 1\n",
    "dataset = tf.data.TFRecordDataset(name).map(_parse_function)#.shuffle(\n",
    "                    #buffer_size=10).batch(batchsize)\n",
    "count=0\n",
    "for image, label, name in dataset:\n",
    "    count +=1\n",
    "    #im_ = tf.reshape(image, [batchsize, 256, 256, 256])\n",
    "    #label = tf.reshape(label, [batchsize, 5])\n",
    "    #name = tf.reshape(name, [batchsize, -1])\n",
    "    \n",
    "    #print(im_[1, :, :, :].shape)\n",
    "    #print(label)\n",
    "    print(\"\\r\" + str(count), end=\"\")\n",
    "# Count the records\n",
    "#records_n = sum(1 for record in dataset)\n",
    "\n",
    "#print(\"records_n = {}\".format(records_n))"
   ]
  },
  {
   "cell_type": "code",
   "execution_count": 56,
   "metadata": {},
   "outputs": [],
   "source": [
    "class model():\n",
    "    \n",
    "    def cost(self, X, y):\n",
    "    #activations, logits = self.model(X, y, batch_size)\n",
    "        return tf.reduce_mean(input_tensor=tf.nn.softmax_cross_entropy_with_logits(logits=X, labels=y))\n",
    "\n",
    "    def forward(self, X):\n",
    "        self.w_fc = tf.Variable(tf.random.truncated_normal(shape=[100, 5], dtype=tf.float64, stddev=0.1), name='w_{0}'.format(\"hi\"))\n",
    "        self.b_fc = tf.Variable(tf.constant(0.0, shape=[5], dtype=tf.float64), name='b_{0}'.format(\"hi\"))\n",
    "        self.variables = [self.w_fc, self.b_fc]\n",
    "        return tf.nn.relu(tf.nn.bias_add(tf.matmul(X, self.w_fc), self.b_fc), name=\"hi\")\n",
    "    \n",
    "    def backward(self, X_train, y_train):\n",
    "        optimizer = tf.compat.v1.train.AdamOptimizer(0.00001)\n",
    "        with tf.GradientTape() as tape:\n",
    "            predicted = self.forward(X_train)\n",
    "            current_loss = self.cost(predicted, y_train)\n",
    "        grads = tape.gradient(current_loss, self.variables)\n",
    "        optimizer.apply_gradients(zip(grads, self.variables))\n",
    "\n"
   ]
  },
  {
   "cell_type": "code",
   "execution_count": 57,
   "metadata": {},
   "outputs": [],
   "source": [
    "import tensorflow as tf\n",
    "import numpy as np\n",
    "#optimizer = tf.compat.v1.train.AdamOptimizer(0.00001)\n",
    "x = np.random.rand(5, 100)\n",
    "y = (np.sum(x, axis=1)/10).astype(int)\n",
    "\n",
    "#w_fc = tf.Variable(tf.random.truncated_normal(shape=[100, 5], dtype=tf.float64, stddev=0.1), name='w_{0}'.format(\"hi\"))\n",
    "#tf.matmul(x, w_fc)\n",
    "model_default = model()\n",
    "\n",
    "preds = model_default.forward(x)\n",
    "\n",
    "#loss_total = loss_total + model_default.loss(preds, y)\n",
    "\n",
    "model_default.backward(x, y)"
   ]
  },
  {
   "cell_type": "code",
   "execution_count": null,
   "metadata": {},
   "outputs": [],
   "source": []
  },
  {
   "cell_type": "code",
   "execution_count": null,
   "metadata": {},
   "outputs": [],
   "source": []
  },
  {
   "cell_type": "code",
   "execution_count": null,
   "metadata": {},
   "outputs": [],
   "source": []
  }
 ],
 "metadata": {
  "kernelspec": {
   "display_name": "Python 3",
   "language": "python",
   "name": "python3"
  },
  "language_info": {
   "codemirror_mode": {
    "name": "ipython",
    "version": 3
   },
   "file_extension": ".py",
   "mimetype": "text/x-python",
   "name": "python",
   "nbconvert_exporter": "python",
   "pygments_lexer": "ipython3",
   "version": "3.5.3"
  }
 },
 "nbformat": 4,
 "nbformat_minor": 4
}
